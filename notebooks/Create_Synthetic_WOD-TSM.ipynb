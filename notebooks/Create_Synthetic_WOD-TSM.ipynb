{
 "cells": [
  {
   "cell_type": "markdown",
   "id": "8442de32-2a67-4d71-991d-b17a3cae3f73",
   "metadata": {},
   "source": [
    "<font size=8>Create Synthetic WOD - TSM sandbox</font>\n",
    "\n",
    "This notebook subsamples the output of a numerical ocean model using the locations of observations from the World Ocean Database\n",
    "The xESMF tool is used to subsample the model temperature and salinity fields\n",
    "\n"
   ]
  },
  {
   "cell_type": "code",
   "execution_count": null,
   "id": "0fe4cb1e-3e40-4cb4-b7b7-ec17de7d59db",
   "metadata": {},
   "outputs": [],
   "source": [
    "import os\n",
    "import dask\n",
    "import numpy as np\n",
    "import pandas as pd\n",
    "import dask.array as dask\n",
    "import dask.bag as db\n",
    "from matplotlib import pyplot as plt\n",
    "import xarray \n",
    "import xesmf"
   ]
  },
  {
   "cell_type": "code",
   "execution_count": null,
   "id": "9a6e6a67-b751-4b72-97d3-cc36f9641eb6",
   "metadata": {},
   "outputs": [],
   "source": [
    "xarray.set_options(keep_attrs=True) ## This ensures that performing simple operations with xarray (eg converting temperature to Celsius) preserves attributes"
   ]
  },
  {
   "cell_type": "markdown",
   "id": "981b0445-4577-44af-97b5-ecffb2da5350",
   "metadata": {},
   "source": [
    "## small local cluster"
   ]
  },
  {
   "cell_type": "raw",
   "id": "59620892-3b0f-4b54-a74f-2a4abd85944a",
   "metadata": {},
   "source": [
    "from dask.distributed import Client\n",
    "client = Client()\n",
    "client"
   ]
  },
  {
   "cell_type": "markdown",
   "id": "8a89920b-cb94-4496-b4f4-c19dded05ed5",
   "metadata": {},
   "source": [
    "## Big cluster"
   ]
  },
  {
   "cell_type": "code",
   "execution_count": null,
   "id": "042792be-6420-4987-9d4b-7707a6026514",
   "metadata": {},
   "outputs": [],
   "source": [
    "import os\n",
    "import dask.config\n",
    "from dask.distributed import Client,LocalCluster\n",
    "from dask_jobqueue import PBSCluster\n",
    "walltime = '01:00:00'\n",
    "cores = 48\n",
    "memory = '192GB'\n",
    "  \n",
    "cluster = PBSCluster(walltime=str(walltime), cores=cores, memory=str(memory),processes=cores,\n",
    "                     job_extra=['-q normal','-P xv83','-l ncpus='+str(cores),'-l mem='+str(memory),\n",
    "                                '-l storage=gdata/xv83+gdata/v14+gdata/ux62+scratch/xv83+gdata/rt52+gdata/ik11+gdata/cj50+gdata/jk72+gdata/hh5'],\n",
    "                     local_directory='$TMPDIR',\n",
    "                     header_skip=[\"select\"])\n",
    "cluster.scale(jobs=2)"
   ]
  },
  {
   "cell_type": "code",
   "execution_count": null,
   "id": "14c706c3-54da-4b10-bc2d-b3cf3efd08d0",
   "metadata": {},
   "outputs": [],
   "source": [
    "client = Client(cluster)"
   ]
  },
  {
   "cell_type": "code",
   "execution_count": null,
   "id": "afd0878f-dc53-4050-8099-437c60908d93",
   "metadata": {},
   "outputs": [],
   "source": [
    "client"
   ]
  },
  {
   "cell_type": "markdown",
   "id": "0192f1bc-d466-4127-9771-14bfc15e7142",
   "metadata": {},
   "source": [
    "# Can we use the CC to load up this data?"
   ]
  },
  {
   "cell_type": "code",
   "execution_count": null,
   "id": "d8a7836c-9640-4068-8d7c-096e07673174",
   "metadata": {},
   "outputs": [],
   "source": [
    "import cosima_cookbook as cc"
   ]
  },
  {
   "cell_type": "code",
   "execution_count": null,
   "id": "26c3f80c-6435-4421-a0c5-714f3a193776",
   "metadata": {},
   "outputs": [],
   "source": [
    "%%time\n",
    "session = cc.database.create_session()\n",
    "monthly_temp = cc.querying.getvar(expt='01deg_jra55v140_iaf', variable='temp', session=session, frequency='1 monthly', start_time='1987', end_time='2019')"
   ]
  },
  {
   "cell_type": "code",
   "execution_count": null,
   "id": "982d73ee-e5ef-4d4e-8cce-007b034f9eff",
   "metadata": {},
   "outputs": [],
   "source": [
    "monthly_temp"
   ]
  },
  {
   "cell_type": "markdown",
   "id": "469b535b-bf38-4d48-9128-a861013baf70",
   "metadata": {},
   "source": [
    "# Note: below requires over 16GB of local RAM?"
   ]
  },
  {
   "cell_type": "code",
   "execution_count": null,
   "id": "b45bf1d8-346c-4a01-9d12-5a100c3f93ad",
   "metadata": {},
   "outputs": [],
   "source": [
    "%%time\n",
    "session = cc.database.create_session()\n",
    "daily_temp = cc.querying.getvar(expt='01deg_jra55v140_iaf', variable='temp', session=session, frequency='1 daily', start_time='1987', end_time='2019', return_dataset=True)"
   ]
  },
  {
   "cell_type": "code",
   "execution_count": null,
   "id": "7ff12521-e245-4a8d-b657-6fad87e53229",
   "metadata": {},
   "outputs": [],
   "source": [
    "daily_temp"
   ]
  },
  {
   "cell_type": "code",
   "execution_count": null,
   "id": "b483a4f9-cd78-4e20-b4da-673d6cb4958d",
   "metadata": {},
   "outputs": [],
   "source": []
  },
  {
   "cell_type": "code",
   "execution_count": null,
   "id": "2c08e6bb-a77c-4f0c-b739-24e27491be43",
   "metadata": {},
   "outputs": [],
   "source": []
  },
  {
   "cell_type": "markdown",
   "id": "8e5b90d0-c441-4149-bfdd-d81cae913583",
   "metadata": {
    "tags": []
   },
   "source": [
    "## Load the model field (here from the 0.1 degree COSIMA model suite)"
   ]
  },
  {
   "cell_type": "raw",
   "id": "de22508e-5377-42a4-9e33-a99633e58f2a",
   "metadata": {
    "tags": []
   },
   "source": [
    "%%time\n",
    "# total of 243 output directories\n",
    "model_data_base_path = '/g/data/cj50/access-om2/raw-output/access-om2-01/01deg_jra55v140_iaf/'\n",
    "\n",
    "model_subdirs = os.listdir(model_data_base_path)\n",
    "model_subdirs.sort()\n",
    "\n",
    "model_temperature_files = []\n",
    "\n",
    "for i_subdir in model_subdirs:\n",
    "    #print(i_subdir)\n",
    "    if os.path.isdir(os.path.join(model_data_base_path,i_subdir)) and \"output\" in i_subdir:\n",
    "        model_output_directory = os.path.join(model_data_base_path,i_subdir,'ocean')\n",
    "        model_output_dir_contents = os.listdir(model_output_directory)\n",
    "        \n",
    "        model_output_dir_contents.sort()\n",
    "        \n",
    "        for i_file in model_output_dir_contents:\n",
    "            \n",
    "            if os.path.isfile(os.path.join(model_output_directory,i_file)) and i_file.startswith(\"ocean-3d-temp-1-daily-mean\"):\n",
    "                #print(i_file)\n",
    "                model_temperature_files.append(os.path.join(model_output_directory,i_file))\n",
    "        \n",
    "        print(i_subdir)"
   ]
  },
  {
   "cell_type": "raw",
   "id": "cc29b6e6-92d6-480c-a2dd-a2ebd345d088",
   "metadata": {},
   "source": [
    "model_temperature_files"
   ]
  },
  {
   "cell_type": "raw",
   "id": "dca67374-7abd-4ec6-9ad4-24a709645f63",
   "metadata": {},
   "source": [
    "model_temperature_dataset = xarray.open_mfdataset(model_temperature_files)#.to_dask() #,concat_dim='time')"
   ]
  },
  {
   "cell_type": "raw",
   "id": "8c6d4486-f94c-40ff-8c9d-c879da8d2102",
   "metadata": {},
   "source": [
    "%%time\n",
    "model_temperature_dataset = xarray.open_mfdataset(model_temperature_files,parallel=True)"
   ]
  },
  {
   "cell_type": "raw",
   "id": "b291725d-8831-46ab-b6ca-9df00d47b937",
   "metadata": {},
   "source": [
    "model_temperature_dataset"
   ]
  },
  {
   "cell_type": "markdown",
   "id": "c67eb60a-ec4a-4ddc-ad5a-513143dee981",
   "metadata": {},
   "source": [
    "# switch"
   ]
  },
  {
   "cell_type": "code",
   "execution_count": null,
   "id": "6c90f863-eede-420e-8126-03436d8db6a2",
   "metadata": {},
   "outputs": [],
   "source": [
    "model_temperature_dataset = daily_temp"
   ]
  },
  {
   "cell_type": "markdown",
   "id": "f0aa7626-ed20-4a3a-8ed0-34675925365d",
   "metadata": {},
   "source": [
    "# 34TB!"
   ]
  },
  {
   "cell_type": "code",
   "execution_count": null,
   "id": "b590ab16-4d3d-4e72-ace8-fb1c2cc312fd",
   "metadata": {},
   "outputs": [],
   "source": [
    "model_temperature_dataset.nbytes/1e9"
   ]
  },
  {
   "cell_type": "code",
   "execution_count": null,
   "id": "42ef0e17-eb17-4830-a353-a701814cf627",
   "metadata": {},
   "outputs": [],
   "source": []
  },
  {
   "cell_type": "code",
   "execution_count": null,
   "id": "466f3b98-8eb9-42dd-a6e5-b6d9b52d666d",
   "metadata": {},
   "outputs": [],
   "source": []
  },
  {
   "cell_type": "code",
   "execution_count": null,
   "id": "43dddfdc-0c6e-4e9f-880b-965308ece9e6",
   "metadata": {},
   "outputs": [],
   "source": [
    "grid010 = xarray.open_dataset('/g/data/ik11/grids/ocean_grid_01.nc')\n",
    "grid010 = grid010.rename({'grid_x_C': 'xu_ocean', 'grid_y_C': 'yu_ocean',\n",
    "                          'grid_x_T': 'xt_ocean', 'grid_y_T': 'yt_ocean'})"
   ]
  },
  {
   "cell_type": "code",
   "execution_count": null,
   "id": "0cad72b4-3c6c-4214-af60-c8e658a6a8d2",
   "metadata": {},
   "outputs": [],
   "source": [
    "grid010"
   ]
  },
  {
   "cell_type": "code",
   "execution_count": null,
   "id": "0306d4ab-771a-40c2-ad1f-e067a643e596",
   "metadata": {},
   "outputs": [],
   "source": [
    "model_temperature_dataset = model_temperature_dataset.assign_coords({'geolat_t': grid010.geolat_t, 'geolon_t': grid010.geolon_t})\n",
    "model_temperature_dataset = model_temperature_dataset.rename({'xt_ocean': 'x', 'yt_ocean': 'y',\n",
    "                                                              'geolon_t': 'longitude', 'geolat_t': 'latitude'})\n"
   ]
  },
  {
   "cell_type": "code",
   "execution_count": null,
   "id": "37dc19ac-7e17-4d9c-88ec-91aadffe788e",
   "metadata": {},
   "outputs": [],
   "source": [
    "model_temperature_dataset['temp'][0,0,:,:].plot()"
   ]
  },
  {
   "cell_type": "code",
   "execution_count": null,
   "id": "6d06a28e-3fb4-4b7b-bec9-41bd4df471af",
   "metadata": {},
   "outputs": [],
   "source": [
    "#lon_name = 'xt_ocean'\n",
    "#model_temperature_dataset = model_temperature_dataset.assign_coords({lon_name: (model_temperature_dataset[lon_name] + 360)  % 360})\n",
    "#model_temperature_dataset.sortby(model_temperature_dataset)\n",
    "#ds_out = ds_out.assign_coords({'lon': ds_out.lon - 100.})\n",
    "#model_temperature_dataset = model_temperature_dataset.assign_coords({lon_name: (model_temperature_dataset[lon_name] + (90+280)) % 360})\n",
    "#model_temperature_dataset = model_temperature_dataset.assign_coords({lon_name: (model_temperature_dataset[lon_name] - 100)})"
   ]
  },
  {
   "cell_type": "raw",
   "id": "604ad64c-b5fb-4fa3-a5ad-ab1d69dc7065",
   "metadata": {},
   "source": [
    "LAT_LIMIT_SOUTH = -50\n",
    "LAT_LIMIT_NORTH = 0\n",
    "\n",
    "LON_LIMIT_WEST = -280\n",
    "LON_LIMIT_EAST = -180\n",
    "\n",
    "model_longitude_grid_offset = -280\n",
    "\n",
    "\n",
    "\n",
    "model_temperature_dataset = model_temperature_dataset.sel(xt_ocean=slice(LON_LIMIT_WEST,LON_LIMIT_EAST),\n",
    "                                                          yt_ocean=slice(LAT_LIMIT_SOUTH,LAT_LIMIT_NORTH),time=slice(\"2018\",'2019'))"
   ]
  },
  {
   "cell_type": "raw",
   "id": "09c089c6-f9a6-4d19-ba5c-f35605aa8d1d",
   "metadata": {},
   "source": [
    "model_temperature_level"
   ]
  },
  {
   "cell_type": "markdown",
   "id": "e8051c34-77d2-4a72-a047-ada4fee268ef",
   "metadata": {},
   "source": [
    "# I believe for xESMF to not bog down *ALL* space must be in one chunk?"
   ]
  },
  {
   "cell_type": "code",
   "execution_count": null,
   "id": "e5ccc565-df81-42be-9a23-48d7d86744b6",
   "metadata": {},
   "outputs": [],
   "source": [
    "%%time\n",
    "model_temperature_dataset = model_temperature_dataset.chunk({'time':1,'st_ocean':-1,'x':-1,'y':-1})"
   ]
  },
  {
   "cell_type": "code",
   "execution_count": null,
   "id": "54829178-f0bd-4b2d-9f38-9629f5a31801",
   "metadata": {},
   "outputs": [],
   "source": [
    "model_temperature_dataset"
   ]
  },
  {
   "cell_type": "code",
   "execution_count": null,
   "id": "358c9f6e-a69d-4730-a124-3a20290c4899",
   "metadata": {},
   "outputs": [],
   "source": []
  },
  {
   "cell_type": "markdown",
   "id": "ebb9d7d1-576e-4078-90d7-ff4f54fd47eb",
   "metadata": {},
   "source": [
    "# Load the World Ocean Database data\n"
   ]
  },
  {
   "cell_type": "code",
   "execution_count": null,
   "id": "b7e2080c-fba9-46be-9a8a-1ccf5cffa423",
   "metadata": {},
   "outputs": [],
   "source": [
    "WOD_base_file_path ='/g/data/ul08/WOD_2018'\n",
    "\n",
    "year = 2018\n",
    "WOD_file_name_stem = 'wod_'\n",
    "\n",
    "\n",
    "obs_platform_type = ['ctd','xbt','pfl','mrb','gld','drb','osd']\n",
    "\n",
    "WOD_object = dict(zip(obs_platform_type, [None]*len(obs_platform_type)))\n",
    "\n",
    "\n",
    "for i_platform_type in obs_platform_type:\n",
    "    \n",
    "    WOD_object[i_platform_type] = xarray.open_dataset(os.path.join(WOD_base_file_path,str(2018),\n",
    "                                                                   WOD_file_name_stem + i_platform_type + '_' + str(year) + '.nc') )\n",
    "    \n"
   ]
  },
  {
   "cell_type": "code",
   "execution_count": null,
   "id": "53bb8819-94f8-4e45-82f0-b73a384c2187",
   "metadata": {},
   "outputs": [],
   "source": [
    "platform_type = 'xbt'\n",
    "\n",
    "WOD_lat = WOD_object[platform_type]['lat'].copy().values\n",
    "WOD_lon = WOD_object[platform_type]['lon'].copy().values\n"
   ]
  },
  {
   "cell_type": "code",
   "execution_count": null,
   "id": "12561d5a-53d9-4224-87ae-c4a88f44669b",
   "metadata": {},
   "outputs": [],
   "source": [
    "WOD_lon[WOD_lon>90] = WOD_lon[WOD_lon>90] - (270+90) "
   ]
  },
  {
   "cell_type": "code",
   "execution_count": null,
   "id": "b64cba5d-6bec-44c9-8878-e17309b2e13c",
   "metadata": {},
   "outputs": [],
   "source": [
    "plt.scatter(WOD_object[platform_type]['lon'],WOD_object[platform_type]['lat'],s=25)\n",
    "plt.scatter(WOD_lon,WOD_lat,s=10)\n"
   ]
  },
  {
   "cell_type": "code",
   "execution_count": null,
   "id": "f335c12e-d1f4-415e-b475-a183c2e8b6ae",
   "metadata": {},
   "outputs": [],
   "source": [
    "ds_WOD_stations = xarray.Dataset()\n",
    "ds_WOD_stations['longitude'] = xarray.DataArray(data=WOD_lon, dims=('casts'))\n",
    "ds_WOD_stations['latitude'] = xarray.DataArray(data=WOD_lat, dims=('casts'))\n",
    "ds_WOD_stations['time'] = xarray.DataArray(data=WOD_object[platform_type]['time'].values, dims=('casts'))\n",
    "\n",
    "ds_WOD_stations = ds_WOD_stations.where(np.logical_and(ds_WOD_stations['longitude']>-280,\n",
    "                                                       ds_WOD_stations['longitude']<-180),drop=True)\n",
    "ds_WOD_stations = ds_WOD_stations.where(np.logical_and(ds_WOD_stations['latitude']>-50,\n",
    "                                                       ds_WOD_stations['latitude']<0),drop=True)\n"
   ]
  },
  {
   "cell_type": "code",
   "execution_count": null,
   "id": "2e6839f6-1560-4961-82d9-fec16684d9b2",
   "metadata": {},
   "outputs": [],
   "source": [
    "plt.contourf(model_temperature_dataset['temp']['xt_ocean'],model_temperature_dataset['temp']['yt_ocean'],\n",
    "             model_temperature_dataset['temp'][0,0,:,:],25)\n",
    "plt.scatter(ds_WOD_stations['longitude'],ds_WOD_stations['latitude'])\n",
    "\n",
    "#plt.scatter(WOD_lon,WOD_lat,s=10)\n"
   ]
  },
  {
   "cell_type": "code",
   "execution_count": null,
   "id": "ea670deb-b4b4-4642-9dd0-21e1a3078c0f",
   "metadata": {},
   "outputs": [],
   "source": [
    "WOD_object['pfl']['z'].max()"
   ]
  },
  {
   "cell_type": "code",
   "execution_count": null,
   "id": "619bae79-dbe4-4c6c-8e28-22ab45d3305a",
   "metadata": {},
   "outputs": [],
   "source": [
    "#model_temperature = model_temperature.drop({'x', 'y'}).cf.to_dataset()\n",
    "\n",
    "\n",
    "#model_temperature = model_temperature.sel(time=ds_WOD_stations['time'].values,method='nearest')\n",
    "\n",
    "#model_temperature = model_temperature.chunk({'time':5,'st_ocean':-1,'y':-1,'x':-1})"
   ]
  },
  {
   "cell_type": "code",
   "execution_count": null,
   "id": "a53598a6-4936-47de-84be-8400969b7e76",
   "metadata": {},
   "outputs": [],
   "source": [
    "max_depth = 800\n",
    "\n",
    "n_levels = model_temperature_dataset['st_ocean'].sel(st_ocean=slice(0,max_depth)).size\n",
    "n_casts  = ds_WOD_stations['casts'].size\n",
    "KELVIN_TO_CELSIUS = -273.15\n",
    "\n",
    "\n",
    "\n",
    "WOD_temperature_synthetic = xarray.DataArray(np.zeros([n_casts,n_levels],dtype=np.float32),\n",
    "                                             dims=['casts','depth'],\n",
    "                                             coords={'casts':ds_WOD_stations['casts'],\n",
    "                                                     'depth':model_temperature_dataset['st_ocean'][0:n_levels].values}).to_dataset(name='temp')\n",
    "WOD_temperature_synthetic['latitude'] = ds_WOD_stations['latitude']\n",
    "\n",
    "\n",
    "WOD_temperature_synthetic['longitude'] = ds_WOD_stations['longitude']\n",
    "WOD_temperature_synthetic['time'] = ds_WOD_stations['time']\n",
    "\n",
    "\n",
    "\n",
    "#model_temperature_level = model_temperature_dataset['temp'].sel(st_ocean=slice(0,max_depth)) \n",
    "\n",
    "\n",
    "for i_level in range(25,n_levels):\n",
    "    model_temperature_level = model_temperature_dataset['temp'].isel(st_ocean=i_level).load() \n",
    "    model_temperature_level = model_temperature_level + KELVIN_TO_CELSIUS\n",
    "    \n",
    "    \n",
    "    regridder = xesmf.Regridder(model_temperature_level, ds_WOD_stations, 'bilinear', locstream_out=True) #,reuse_weights=True)\n",
    "    \n",
    "    WOD_temperature_synthetic_level = regridder(model_temperature_level)\n",
    "    WOD_temperature_synthetic_level.to_netcdf(os.path.join('/g/data4/ul08/CARS_v2/Synthetic_WOD/staging', \n",
    "                                                           'WOD_synthetic_' + platform_type + '_2018_' + 'level_' + str(i_level) +  '.nc') ) \n",
    "    \n",
    "    \n",
    "    WOD_temperature_synthetic['temp'][:,i_level] = WOD_temperature_synthetic_level.sel(time=ds_WOD_stations['time'],method='nearest')\n",
    "    \n",
    "    \n"
   ]
  },
  {
   "cell_type": "code",
   "execution_count": null,
   "id": "a1fe1b0f-b8ce-47fa-87c7-d1ee2de6c712",
   "metadata": {},
   "outputs": [],
   "source": [
    "WOD_temperature_synthetic_level"
   ]
  },
  {
   "cell_type": "code",
   "execution_count": null,
   "id": "6ebc8289-3c4d-407f-971c-374ffbee802c",
   "metadata": {},
   "outputs": [],
   "source": [
    "\n",
    "\n",
    "for i_level in range(0,n_levels):\n",
    "    #Get the slice for the current synthetic layer\n",
    "    WOD_temperature_synthetic_level = xarray.open_dataset(os.path.join('/g/data4/ul08/CARS_v2/Synthetic_WOD/staging', \n",
    "                                                           'WOD_synthetic_' + platform_type + '_2018_' + 'level_' + str(i_level) +  '.nc') )\n",
    "    WOD_temperature_synthetic['temp'][:,i_level] = WOD_temperature_synthetic_level['__xarray_dataarray_variable__'].sel(time=ds_WOD_stations['time'],method='nearest')\n",
    "    WOD_temperature_synthetic_level.close()"
   ]
  },
  {
   "cell_type": "code",
   "execution_count": null,
   "id": "dc497fb8-942b-4d5b-9125-17d550ab2328",
   "metadata": {},
   "outputs": [],
   "source": [
    "WOD_temperature_synthetic['temp'][20,:].plot()"
   ]
  },
  {
   "cell_type": "code",
   "execution_count": null,
   "id": "c5a2f593-7065-4d13-8bdc-0c5cffe5dd24",
   "metadata": {},
   "outputs": [],
   "source": [
    "model_temperature_level"
   ]
  },
  {
   "cell_type": "code",
   "execution_count": null,
   "id": "c26c8c59-f57a-42ce-81ab-e041c5996f9e",
   "metadata": {},
   "outputs": [],
   "source": [
    "model_temperature_level"
   ]
  },
  {
   "cell_type": "code",
   "execution_count": null,
   "id": "1e24cc72-a2f1-40ff-be15-75fcfb024565",
   "metadata": {},
   "outputs": [],
   "source": [
    "plt.scatter(WOD_temperature_synthetic['longitude'],WOD_temperature_synthetic['latitude'],c=WOD_temperature_synthetic['temp'][:,0],vmin=10,vmax=35)\n",
    "plt.colorbar()"
   ]
  },
  {
   "cell_type": "code",
   "execution_count": null,
   "id": "44f55ca0-e621-4d25-aee9-e04fff5b6968",
   "metadata": {},
   "outputs": [],
   "source": [
    "model_temperature_level[0,:,:].plot(vmin=10,vmax=35)"
   ]
  },
  {
   "cell_type": "code",
   "execution_count": null,
   "id": "ed560ae6-b45f-477b-af8e-bb2ebe4e26ac",
   "metadata": {},
   "outputs": [],
   "source": [
    "model_temperature_level"
   ]
  },
  {
   "cell_type": "code",
   "execution_count": null,
   "id": "e113bb4d-9817-46a4-a1c2-940ee8f698e2",
   "metadata": {},
   "outputs": [],
   "source": [
    "regridder.to_netcdf('/g/data4/ul08/CARS_v2/regrid_weights_xbt.nc')"
   ]
  },
  {
   "cell_type": "code",
   "execution_count": null,
   "id": "095a08dc-fec5-4732-b02e-c4e3c16fbf30",
   "metadata": {},
   "outputs": [],
   "source": [
    "test_xbt.compute()"
   ]
  },
  {
   "cell_type": "code",
   "execution_count": null,
   "id": "f948a8a7-9aea-4cae-aae6-98a4986d91ee",
   "metadata": {},
   "outputs": [],
   "source": [
    "unique_days = np.unique(ds_WOD_stations['time.dayofyear'])"
   ]
  },
  {
   "cell_type": "code",
   "execution_count": null,
   "id": "b743c76a-c391-4f8a-ba96-18dd5a81bbe4",
   "metadata": {},
   "outputs": [],
   "source": [
    "for i_day in unique_days:\n",
    "    \n",
    "    model_temperature_dayofyear = model_temperature.sel(time=model_temperature['time'].dt.dayofyear.isin([i_day]))\n",
    "    WOD_time_index = ds_WOD_stations['time'].dt.dayofyear.isin([i_day])\n",
    "    ds_WOD_stations_dayofyear = ds_WOD_stations.where(WOD_time_index,drop=True)\n",
    "    \n",
    "\n",
    "    dsa\n",
    "    "
   ]
  },
  {
   "cell_type": "code",
   "execution_count": null,
   "id": "b7b62914-ec83-4941-8f53-036cf0293f79",
   "metadata": {},
   "outputs": [],
   "source": [
    "WOD_time_index"
   ]
  },
  {
   "cell_type": "code",
   "execution_count": null,
   "id": "a71f8bf3-d7be-49ee-83ca-94157104a045",
   "metadata": {},
   "outputs": [],
   "source": [
    "ds_WOD_stations_dayofyear"
   ]
  },
  {
   "cell_type": "code",
   "execution_count": null,
   "id": "55139052-24fb-436e-9b78-548f2046e426",
   "metadata": {},
   "outputs": [],
   "source": [
    "ds_WOD_stations"
   ]
  },
  {
   "cell_type": "code",
   "execution_count": null,
   "id": "7a255331-e194-4255-ac7b-0e67e74cbc3e",
   "metadata": {},
   "outputs": [],
   "source": [
    "regridder = xesmf.Regridder(model_temperature, ds_WOD_stations, 'bilinear', locstream_out=True)\n"
   ]
  },
  {
   "cell_type": "code",
   "execution_count": null,
   "id": "e04a582b-aa70-4506-a237-88c0caa97adf",
   "metadata": {},
   "outputs": [],
   "source": [
    "regridder"
   ]
  },
  {
   "cell_type": "code",
   "execution_count": null,
   "id": "b642b01e-f2d7-46a1-bb13-628dd819378c",
   "metadata": {},
   "outputs": [],
   "source": [
    "WOD_temperature_synthetic = regridder(model_temperature).compute()\n",
    "\n"
   ]
  },
  {
   "cell_type": "code",
   "execution_count": null,
   "id": "ad7ed17d-4db0-4c11-a991-0dc79a573d4c",
   "metadata": {},
   "outputs": [],
   "source": [
    "WOD_temperature_synthetic"
   ]
  },
  {
   "cell_type": "code",
   "execution_count": null,
   "id": "ce22e870-e3aa-41c1-9b81-742244f15e99",
   "metadata": {},
   "outputs": [],
   "source": [
    "model_temperature"
   ]
  },
  {
   "cell_type": "code",
   "execution_count": null,
   "id": "e1451cb9-93ae-4c60-9a9f-8333baea4f2a",
   "metadata": {},
   "outputs": [],
   "source": [
    "WOD_temperature_synthetic['temp'][0,:,0].plot()"
   ]
  },
  {
   "cell_type": "code",
   "execution_count": null,
   "id": "509538f2-644c-4023-925c-5c40343d552e",
   "metadata": {},
   "outputs": [],
   "source": [
    "client.shutdown()"
   ]
  },
  {
   "cell_type": "code",
   "execution_count": null,
   "id": "e774ce69-4cdb-44d4-803a-bb599c340967",
   "metadata": {},
   "outputs": [],
   "source": []
  }
 ],
 "metadata": {
  "kernelspec": {
   "display_name": "Python 3 (ipykernel)",
   "language": "python",
   "name": "python3"
  },
  "language_info": {
   "codemirror_mode": {
    "name": "ipython",
    "version": 3
   },
   "file_extension": ".py",
   "mimetype": "text/x-python",
   "name": "python",
   "nbconvert_exporter": "python",
   "pygments_lexer": "ipython3",
   "version": "3.9.15"
  }
 },
 "nbformat": 4,
 "nbformat_minor": 5
}
