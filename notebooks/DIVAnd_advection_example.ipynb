{
 "cells": [
  {
   "cell_type": "markdown",
   "metadata": {},
   "source": [
    "# DIVAnd Full CARS Example - adding advection\n",
    "\n",
    "Here we illustrate reading WOD, AIMS and MNF profile data, then using DIVAnd to perform a 3d mapping. The Great Barrier Reef region is used as an example in order to show the utility of including \"boutique\" data from AIMS/MNF\n",
    "\n",
    "This is based off of CChapman's `Test_time_varying_clim.ipynb`\n",
    "\n"
   ]
  },
  {
   "cell_type": "code",
   "execution_count": 1,
   "metadata": {},
   "outputs": [],
   "source": [
    "using NCDatasets\n",
    "using PhysOcean\n",
    "using DataStructures\n",
    "using DIVAnd\n",
    "using Dates\n",
    "using Statistics\n",
    "using Random\n",
    "using Printf\n",
    "using PyPlot\n",
    "#using Iterators"
   ]
  },
  {
   "cell_type": "code",
   "execution_count": 2,
   "metadata": {},
   "outputs": [
    {
     "data": {
      "text/plain": [
       "CSIRO_standard_levels (generic function with 1 method)"
      ]
     },
     "execution_count": 2,
     "metadata": {},
     "output_type": "execute_result"
    }
   ],
   "source": [
    "function CSIRO_standard_levels()\n",
    "    \n",
    "    \"\"\"\n",
    "    CSIRO_standard_levels()\n",
    "\n",
    "    Simple list to return the pre-defined CSIRO standard levels\n",
    "\n",
    "    # Examples\n",
    "    ```julia-repl\n",
    "    julia> CSIRO_standard_levels()\n",
    "    \"\"\"\n",
    "    \n",
    "    depth_levels  = Array{Float32}([2,5,10,20,30,40,50,60,70,75,80,90,100,110,120,125,130,140,150,160,170,175,180,190,200,\n",
    "                               210,220,225,230,240,250,260,270,275,280,290,300,325,350,375,400,425,450,475,500,550,600,\n",
    "                               650,700,750,800,850,900,950,1000,1100,1200,1300,1400,1500,1600,1700,1750,1800,1900,2000,\n",
    "                               2250,2500,2750,3000,3250,3500,3750,4000,4250,4500,4750,5000,5500,6000])\n",
    "    return depth_levels\n",
    "end"
   ]
  },
  {
   "cell_type": "markdown",
   "metadata": {},
   "source": [
    "## Configuration\n",
    "* Define the domain limits and horizontal and vertical grids for the mapped fields, as well as the temporal range.\n",
    "* The example of the Great Barrier Reef region is used for illustrative purposes\n"
   ]
  },
  {
   "cell_type": "code",
   "execution_count": 3,
   "metadata": {},
   "outputs": [
    {
     "name": "stdout",
     "output_type": "stream",
     "text": [
      "TS = TimeSelectorYearListMonthList{Vector{UnitRange{Int64}}, Vector{Vector{Int64}}}(UnitRange{Int64}[2005:2022], [[1], [2], [3], [4], [5], [6], [7], [8], [9], [10], [11], [12]])\n"
     ]
    }
   ],
   "source": [
    "#==============GBR===============#\n",
    "\n",
    "LONGITUDE_LIM_WEST = 142.0\n",
    "LONGITUDE_LIM_EAST = 155.0\n",
    "\n",
    "LATITUDE_LIM_SOUTH = -28.0\n",
    "LATITUDE_LIM_NORTH =  -10.0\n",
    "#==============GBR===============#\n",
    "\n",
    "\n",
    "#==============TAS===============#\n",
    "\n",
    "#LONGITUDE_LIM_WEST = 140\n",
    "#LONGITUDE_LIM_EAST = 150\n",
    "\n",
    "#LATITUDE_LIM_SOUTH = -50\n",
    "#LATITUDE_LIM_NORTH =  -35\n",
    "##==============GBR===============#\n",
    "varname = \"Temp\"\n",
    "\n",
    "dx = 0.1 # longitude resolution in degrees\n",
    "dy = 0.1 # latitude resolution in degrees\n",
    "\n",
    "lonr = Array{Float32}(LONGITUDE_LIM_WEST:dx:LONGITUDE_LIM_EAST); # the range of longitudes (start:step:end)\n",
    "latr = Array{Float32}(LATITUDE_LIM_SOUTH:dy:LATITUDE_LIM_NORTH); # the range of latitudes (start:step:end)\n",
    "\n",
    "#timerange = [Date(2018,1,1),Date(2018,12,31)];\n",
    "depthr = CSIRO_standard_levels();\n",
    "depthr = depthr[1:15];\n",
    "\n",
    "#monthlist = [[1,2,3],[4,5,6],[7,8,9],[10,11,12]];\n",
    "\n",
    "#Perform mapping on individual months\n",
    "monthlist = [[1],[2],[3],[4],[5],[6],[7],[8],[9],[10],[11],[12]];\n",
    "\n",
    "\n",
    "#Perform  mapping on individual years\n",
    "#yearlist = [[2005],[2006],[2007],[2008],[2009],[2010],[2011],[2012],[2013],[2014],[2015],[2016],[2017],[2018],[2019],[2020],[2021],[2022]]\n",
    "\n",
    "#Perform mapping over all years between 2005 and 2022 (inclusive) ie. Do not generate independent analyses for each year, but a climatology of ALL \n",
    "#selected years\n",
    "yearlist = [2005:2022]\n",
    "\n",
    "TS = DIVAnd.TimeSelectorYearListMonthList(yearlist,monthlist);\n",
    "@show TS;"
   ]
  },
  {
   "cell_type": "markdown",
   "metadata": {},
   "source": [
    "## Create a list of individual World Ocean Database files to ingest. \n",
    "Here we use the vertically interpolated profiles created by the python notebook Prepare_WOD_input"
   ]
  },
  {
   "cell_type": "code",
   "execution_count": 4,
   "metadata": {},
   "outputs": [
    {
     "name": "stdout",
     "output_type": "stream",
     "text": [
      "2005\n",
      "2006\n",
      "2007\n",
      "2008\n",
      "2009\n",
      "2010\n",
      "2011\n",
      "2012\n",
      "2013\n",
      "2014\n",
      "2015\n",
      "2016\n",
      "2017\n",
      "2018\n",
      "2019\n",
      "2020\n",
      "2021\n",
      "2022\n"
     ]
    },
    {
     "data": {
      "text/plain": [
       "1970-01-01T00:00:00"
      ]
     },
     "execution_count": 4,
     "metadata": {},
     "output_type": "execute_result"
    }
   ],
   "source": [
    "#Base data path\n",
    "local_base_path = \"/Users/moo270/code/CARSv2/cars-v2/src/data/cha674_CARS_2022_ancillary_data/\"\n",
    "data_path  = local_base_path*\"WOD_intermediate/interp_WOD_profiles_GBR/\"\n",
    "#data_path = \"/tube1/cha674/CARS_2022_ancillary_data/WOD_intermediate/interp_WOD_profiles_TAS/\"\n",
    "\n",
    "#Variable to read \n",
    "data_variable = \"Temperature\"\n",
    "#=======================#\n",
    "#Observational platform: \n",
    "# - ctd = CTD cast\n",
    "# - pfl = profiling float (mostly Argo)\n",
    "# - xbt = XBT profile\n",
    "# - gld = ocean glider\n",
    "# - mrd = moored instrument (mostly tropical moored array)\n",
    "# - osd = ocean station\n",
    "#=======================#\n",
    "\n",
    "\n",
    "#Note that in this example gliders are NOT selected as the high density of profiles\n",
    "#causes issues. I'm working on it. Appending \"gld\" to the platform_types list will include them\n",
    "\n",
    "platform_types = [\"ctd\",\"pfl\",\"xbt\"] #,\"gld\"]\n",
    "WOD_intermediate_file_tail = \".GBR_region.interp_standard_level.nc\"\n",
    "WOD_standard_files = []\n",
    "start_year = 2005\n",
    "end_year   = 2022\n",
    "\n",
    "#Loop through years and platform types to build a list\n",
    "for i_year in start_year:end_year\n",
    "    println(i_year)\n",
    "    for i_platform in platform_types\n",
    "\n",
    "        WOD_data_full_path = string(data_path,\"WOD_\",i_year,\"_\",data_variable,\"_\",i_platform,WOD_intermediate_file_tail)\n",
    "        #println(WOD_data_full_path)\n",
    "        if isfile(WOD_data_full_path)\n",
    "            #ds = Dataset(WOD_data_full_path)\n",
    "            push!(WOD_standard_files,WOD_data_full_path)\n",
    "        end\n",
    "    end\n",
    "end\n",
    "\n",
    "start_time_ordinate  = DateTime(\"1970-01-01\",dateformat\"y-m-d\")"
   ]
  },
  {
   "cell_type": "markdown",
   "metadata": {},
   "source": [
    "## Get the number of individual casts\n",
    "Used for pre-allocation of arrays for output data "
   ]
  },
  {
   "cell_type": "code",
   "execution_count": 5,
   "metadata": {},
   "outputs": [
    {
     "name": "stdout",
     "output_type": "stream",
     "text": [
      "total_casts = 15486\n"
     ]
    }
   ],
   "source": [
    "depths_to_read =30 \n",
    "total_casts = 0\n",
    "\n",
    "\n",
    "for file_index in 1:length(WOD_standard_files)\n",
    "    WOD_dataset =  Dataset(WOD_standard_files[file_index])\n",
    "    \n",
    "    casts = WOD_dataset[\"casts\"]\n",
    "    n_casts = length(casts)\n",
    "    \n",
    "    total_casts = total_casts + n_casts;\n",
    "    close(WOD_dataset)\n",
    "end\n",
    "@show total_casts;"
   ]
  },
  {
   "cell_type": "markdown",
   "metadata": {},
   "source": [
    "## Read the WOD profiles\n",
    "* Loop through all individual WOD files (stored by ocean variable, year and platform) \n",
    "* vertically interpolated casts are stored in the form (cast,depth). DIVAnd requires ragged array-like structure;\n",
    "* we read the data in the native (cast,depth) form, then unroll into the long array structure DIVA likes.\n"
   ]
  },
  {
   "cell_type": "code",
   "execution_count": 6,
   "metadata": {},
   "outputs": [
    {
     "name": "stdout",
     "output_type": "stream",
     "text": [
      "Read data\n",
      "(385663,)\n"
     ]
    }
   ],
   "source": [
    "depths_to_read=30\n",
    "\n",
    "#Strongly type pre-allocated arrays to avoid error\n",
    "longitude   = zeros(Float32, depths_to_read,total_casts)\n",
    "latitude    = zeros(Float32, depths_to_read,total_casts)\n",
    "time        = zeros(Int64, depths_to_read,total_casts)   \n",
    "depth       = zeros(Float32, depths_to_read,total_casts)\n",
    "temperature = zeros(Float32, depths_to_read,total_casts)\n",
    "\n",
    "cast_counter = 1\n",
    "for file_index in 1:length(WOD_standard_files)\n",
    "    \n",
    "    #Open the WOD netcdf file    \n",
    "    WOD_dataset =  Dataset(WOD_standard_files[file_index])\n",
    "    \n",
    "    #Get the vertical coordinate (here pressure)\n",
    "    current_depth =WOD_dataset[\"pressure\"].var[:]\n",
    "    current_depth = current_depth[1:depths_to_read]\n",
    "    \n",
    "    \n",
    "    current_longitude  =  WOD_dataset[\"lon\"].var[:,:] \n",
    "    current_latitude   =  WOD_dataset[\"lat\"].var[:,:] \n",
    "    current_time       =  WOD_dataset[\"time\"].var[:,:]\n",
    "    \n",
    "   # println(WOD_dataset[\"time\"].attrib[\"units\"])\n",
    "    \n",
    "    n_profiles = length(WOD_dataset[\"casts\"])\n",
    "    \n",
    "    current_depth = repeat(current_depth,outer=[1,n_profiles])\n",
    "   \n",
    "    \n",
    "    current_longitude = transpose(repeat(current_longitude,outer=[1,depths_to_read]))\n",
    "    current_latitude  = transpose(repeat(current_latitude,outer=[1,depths_to_read]))\n",
    "    current_time      = transpose(repeat(current_time,outer=[1,depths_to_read]))\n",
    "    \n",
    "    \n",
    "    current_temperature = WOD_dataset[\"Temperature\"].var[1:depths_to_read,:]\n",
    "    \n",
    "    temperature[:,cast_counter:cast_counter+n_profiles-1] = current_temperature #vec(current_temperature)\n",
    "    depth[:,cast_counter:cast_counter+n_profiles-1]       = current_depth #vec(current_depth)\n",
    "    longitude[:,cast_counter:cast_counter+n_profiles-1]   = current_longitude\n",
    "    latitude[:,cast_counter:cast_counter+n_profiles-1]    = current_latitude\n",
    "    time[:,cast_counter:cast_counter+n_profiles-1]        = current_time\n",
    "    \n",
    "    \n",
    "    cast_counter = cast_counter + n_profiles\n",
    "    close(WOD_dataset)\n",
    "\n",
    "end\n",
    "temperature = vec(temperature)\n",
    "depth       = vec(depth)\n",
    "longitude = vec(longitude)\n",
    "latitude = vec(latitude)\n",
    "time = vec(time)\n",
    "    \n",
    "    \n",
    "\n",
    "println(\"Read data\")\n",
    "\n",
    "\n",
    "deleteat!(longitude  , findall(isnan.(temperature)) )\n",
    "deleteat!(latitude   , findall(isnan.(temperature)) )\n",
    "deleteat!(time       , findall(isnan.(temperature)) )\n",
    "deleteat!(depth       , findall(isnan.(temperature)) )\n",
    "\n",
    "deleteat!(temperature, findall(isnan.(temperature)) )\n",
    "\n",
    "deleteat!(longitude  , findall((temperature.<=0) .| (temperature.>40)) )\n",
    "deleteat!(latitude   , findall((temperature.<=0) .| (temperature.>40)) )\n",
    "deleteat!(time       , findall((temperature.<=0) .| (temperature.>40)) )\n",
    "deleteat!(depth      , findall((temperature.<=0) .| (temperature.>40)) )\n",
    "\n",
    "deleteat!(temperature, findall((temperature.<=0) .| (temperature.>40)) )\n",
    "\n",
    "\n",
    "\n",
    "observation_id = [0:length(longitude):1]\n",
    "println(size(temperature))\n",
    "\n",
    "time_dates = start_time_ordinate + Dates.Second.(Int64.(floor.(time*1.0e-9) ));\n",
    "#longitude = longitude .+ 360;"
   ]
  },
  {
   "cell_type": "markdown",
   "metadata": {},
   "source": [
    "## Read the ancillary data from AIMS and MNF. \n",
    "Note that these data likely to be of lower quality than the WOD data. "
   ]
  },
  {
   "cell_type": "code",
   "execution_count": 7,
   "metadata": {},
   "outputs": [
    {
     "name": "stdout",
     "output_type": "stream",
     "text": [
      "AIMS_TEMP_CTD.GBRN_region.interp_standard_level.nc\n",
      "AIMS_TEMP_CTD.GBR_region.interp_standard_level.nc\n",
      "AIMS_TEMP_CTD.GBRS_region.interp_standard_level.nc\n",
      "MNF_TEMP_CTD.interp_standard_level.nc\n"
     ]
    }
   ],
   "source": [
    "ancillary_data_path  = local_base_path*\"WOD_intermediate/\"\n",
    "ancillary_data_files = [\"AIMS_TEMP_CTD.GBRN_region.interp_standard_level.nc\",\"AIMS_TEMP_CTD.GBR_region.interp_standard_level.nc\",\n",
    "                        \"AIMS_TEMP_CTD.GBRS_region.interp_standard_level.nc\",\"MNF_TEMP_CTD.interp_standard_level.nc\"]\n",
    "ancillary_data_list = []\n",
    "for i_file in ancillary_data_files\n",
    "    println(i_file)\n",
    "    ancillary_data_file_full_path = string(ancillary_data_path,i_file)\n",
    "    if isfile(ancillary_data_file_full_path)\n",
    "            #ds = Dataset(WOD_data_full_path)\n",
    "        push!(ancillary_data_list,ancillary_data_file_full_path)\n",
    "    end\n",
    "end #for\n",
    "\n",
    "depths_to_read =120\n",
    "total_ancillary_casts = 0\n",
    "\n",
    "\n",
    "for file_index in 1:length(ancillary_data_list)\n",
    "    ancillary_dataset =  Dataset(ancillary_data_list[file_index])\n",
    "    \n",
    "    casts =ancillary_dataset[\"casts\"]\n",
    "    n_casts = length(casts)\n",
    "    total_ancillary_casts = total_ancillary_casts + n_casts\n",
    "    close(ancillary_dataset)\n",
    "end\n"
   ]
  },
  {
   "cell_type": "code",
   "execution_count": 8,
   "metadata": {},
   "outputs": [
    {
     "name": "stdout",
     "output_type": "stream",
     "text": [
      "/Users/moo270/code/CARSv2/cars-v2/src/data/cha674_CARS_2022_ancillary_data/WOD_intermediate/AIMS_TEMP_CTD.GBRN_region.interp_standard_level.nc\n",
      "/Users/moo270/code/CARSv2/cars-v2/src/data/cha674_CARS_2022_ancillary_data/WOD_intermediate/AIMS_TEMP_CTD.GBR_region.interp_standard_level.nc\n",
      "/Users/moo270/code/CARSv2/cars-v2/src/data/cha674_CARS_2022_ancillary_data/WOD_intermediate/AIMS_TEMP_CTD.GBRS_region.interp_standard_level.nc\n",
      "/Users/moo270/code/CARSv2/cars-v2/src/data/cha674_CARS_2022_ancillary_data/WOD_intermediate/MNF_TEMP_CTD.interp_standard_level.nc\n",
      "Read data\n",
      "(261565,)\n"
     ]
    }
   ],
   "source": [
    "longitude_ancillary   = zeros(Float32, depths_to_read,total_casts)\n",
    "latitude_ancillary    = zeros(Float32, depths_to_read,total_casts)\n",
    "time_ancillary        = zeros(Float64, depths_to_read,total_casts)\n",
    "depth_ancillary       = zeros(Float32, depths_to_read,total_casts)\n",
    "temperature_ancillary = zeros(Float32, depths_to_read,total_casts)\n",
    "\n",
    "\n",
    "cast_counter = 1\n",
    "for file_index in 1:length(ancillary_data_list)\n",
    "    \n",
    "    println(ancillary_data_list[file_index])\n",
    "    #println(platform_index,\" \",current_platform)\n",
    "    #println(WOD_datasets[file_index])\n",
    "    \n",
    "    ancillary_dataset =  Dataset(ancillary_data_list[file_index])\n",
    "    \n",
    "    \n",
    "    current_depth =ancillary_dataset[\"depth_levels\"].var[:]\n",
    "    current_depth = current_depth[1:depths_to_read]\n",
    "    #println(length(current_depth))\n",
    "    \n",
    "    \n",
    "    current_longitude  =  ancillary_dataset[\"longitude\"].var[:,:] #vcat(longitude,)\n",
    "    current_latitude   =  ancillary_dataset[\"latitude\"].var[:,:] #vcat(latitude,)\n",
    "    current_time       =  ancillary_dataset[\"time\"].var[:,:] #vcat(time,)\n",
    "    \n",
    "    start_date = ancillary_dataset[\"time\"].attrib[\"units\"][15:end]\n",
    "    start_time_ordinate  = DateTime(start_date,dateformat\"y-m-d\")\n",
    "    replace!(current_time, NaN=>0)\n",
    "    #println(start_date)\n",
    "    #current_dates = start_time_ordinate+Dates.Second.(Float64.(floor.(current_time)) )\n",
    "\n",
    "    #println(current_dates[1:20])\n",
    "    \n",
    "    #dasdaf\n",
    "    n_profiles = length(ancillary_dataset[\"casts\"])\n",
    "    \n",
    "    current_depth = repeat(current_depth,outer=[1,n_profiles])\n",
    "   \n",
    "    \n",
    "    current_longitude = transpose(repeat(current_longitude,outer=[1,depths_to_read]))\n",
    "    current_latitude  = transpose(repeat(current_latitude,outer=[1,depths_to_read]))\n",
    "    current_time      = transpose(repeat(current_time,outer=[1,depths_to_read]))\n",
    "    \n",
    "    \n",
    "    current_temperature = ancillary_dataset[\"Temperature\"].var[1:depths_to_read,:]\n",
    "    \n",
    "    temperature_ancillary[:,cast_counter:cast_counter+n_profiles-1] = current_temperature \n",
    "    depth_ancillary[:,cast_counter:cast_counter+n_profiles-1]       = current_depth \n",
    "    longitude_ancillary[:,cast_counter:cast_counter+n_profiles-1]   = current_longitude\n",
    "    latitude_ancillary[:,cast_counter:cast_counter+n_profiles-1]    = current_latitude\n",
    "    time_ancillary[:,cast_counter:cast_counter+n_profiles-1]        = current_time\n",
    "    \n",
    "    \n",
    "    cast_counter = cast_counter + n_profiles\n",
    "    close(ancillary_dataset)\n",
    "\n",
    "end\n",
    "temperature_ancillary = vec(temperature_ancillary)\n",
    "depth_ancillary       = vec(depth_ancillary)\n",
    "longitude_ancillary = vec(longitude_ancillary)\n",
    "latitude_ancillary = vec(latitude_ancillary)\n",
    "time_ancillary = vec(time_ancillary)\n",
    "\n",
    "    \n",
    "\n",
    "println(\"Read data\")\n",
    "\n",
    "\n",
    "deleteat!(longitude_ancillary  , findall(isnan.(temperature_ancillary)) )\n",
    "deleteat!(latitude_ancillary   , findall(isnan.(temperature_ancillary)) )\n",
    "deleteat!(time_ancillary       , findall(isnan.(temperature_ancillary)) )\n",
    "deleteat!(depth_ancillary       , findall(isnan.(temperature_ancillary)) )\n",
    "deleteat!(temperature_ancillary, findall(isnan.(temperature_ancillary)) )\n",
    "\n",
    "#Basic QC\n",
    "deleteat!(longitude_ancillary  , findall((temperature_ancillary.<=0) .| (temperature_ancillary.>40)) )\n",
    "deleteat!(latitude_ancillary   , findall((temperature_ancillary.<=0) .| (temperature_ancillary.>40)) )\n",
    "deleteat!(time_ancillary       , findall((temperature_ancillary.<=0) .| (temperature_ancillary.>40)) )\n",
    "deleteat!(depth_ancillary      , findall((temperature_ancillary.<=0) .| (temperature_ancillary.>40)) )\n",
    "\n",
    "deleteat!(temperature_ancillary, findall((temperature_ancillary.<=0) .| (temperature_ancillary.>40)) )\n",
    "\n",
    "\n",
    "\n",
    "observation_id_ancillary = [0:length(longitude_ancillary):1]\n",
    "println(size(temperature_ancillary))\n",
    "\n",
    "time_dates_ancillary = start_time_ordinate+Dates.Second.(Float64.(floor.(time_ancillary)) );\n",
    "#longitude = longitude .+ 360;"
   ]
  },
  {
   "cell_type": "code",
   "execution_count": 9,
   "metadata": {},
   "outputs": [
    {
     "data": {
      "image/png": "[encoded data removed]",
      "text/plain": [
       "Figure(PyObject <Figure size 640x480 with 1 Axes>)"
      ]
     },
     "metadata": {},
     "output_type": "display_data"
    },
    {
     "data": {
      "text/plain": [
       "1-element Vector{PyCall.PyObject}:\n",
       " PyObject <matplotlib.lines.Line2D object at 0x177a7b970>"
      ]
     },
     "execution_count": 9,
     "metadata": {},
     "output_type": "execute_result"
    }
   ],
   "source": [
    "figure(\"Australian-Data\")\n",
    "ax = subplot(1,1,1)\n",
    "#ax.plot(temperature[:,1],-depth[:,1])\n",
    "ax.plot(temperature[1:22],-depth[1:22])"
   ]
  },
  {
   "cell_type": "code",
   "execution_count": 10,
   "metadata": {},
   "outputs": [
    {
     "data": {
      "image/png": "[encoded data removed]",
      "text/plain": [
       "Figure(PyObject <Figure size 640x480 with 1 Axes>)"
      ]
     },
     "metadata": {},
     "output_type": "display_data"
    },
    {
     "data": {
      "text/plain": [
       "(-30.0, -10.0)"
      ]
     },
     "execution_count": 10,
     "metadata": {},
     "output_type": "execute_result"
    }
   ],
   "source": [
    "figure(\"Australian-Data\")\n",
    "ax = subplot(1,1,1)\n",
    "plot(longitude, latitude, \"ko\", markersize=.1, markerfacecolor=\"k\")\n",
    "plot(longitude_ancillary, latitude_ancillary, \"ro\", markersize=.1, markerfacecolor=\"k\")\n",
    "\n",
    "aspectratio = 1/cos(mean(latr) * pi/180)\n",
    "ax.tick_params(\"both\",labelsize=6)\n",
    "ax.set_xlim([140,155])\n",
    "ax.set_ylim([-30,-10])\n",
    "\n",
    "#gca().set_aspect(aspectratio)"
   ]
  },
  {
   "cell_type": "markdown",
   "metadata": {},
   "source": [
    "## Run the obs checker on WOD\n",
    "Basic scanner to show extents of data. usefull for identifying obvious problems "
   ]
  },
  {
   "cell_type": "code",
   "execution_count": 11,
   "metadata": {},
   "outputs": [
    {
     "name": "stdout",
     "output_type": "stream",
     "text": [
      "              minimum and maximum of obs. dimension 1: (142.00006f0, 155.0f0)\n",
      "              minimum and maximum of obs. dimension 2: (-27.99938f0, -10.0f0)\n",
      "              minimum and maximum of obs. dimension 3: (0.0f0, 240.0f0)\n",
      "              minimum and maximum of obs. dimension 4: ("
     ]
    },
    {
     "name": "stderr",
     "output_type": "stream",
     "text": [
      "\u001b[36m\u001b[1m[ \u001b[22m\u001b[39m\u001b[36m\u001b[1mInfo: \u001b[22m\u001b[39mChecking ranges for dimensions and observations\n"
     ]
    },
    {
     "name": "stdout",
     "output_type": "stream",
     "text": [
      "DateTime(\"2005-01-04T01:38:03\"), DateTime(\"2022-12-31T05:56:14\"))\n",
      "                          minimum and maximum of data: (0.0010437907f0, 39.242805f0)\n"
     ]
    }
   ],
   "source": [
    "checkobs((longitude,latitude,depth,time_dates),temperature,observation_id)"
   ]
  },
  {
   "cell_type": "markdown",
   "metadata": {},
   "source": [
    "## Run the obs checker on the AIMS/MNF data\n",
    "See above"
   ]
  },
  {
   "cell_type": "code",
   "execution_count": 12,
   "metadata": {},
   "outputs": [
    {
     "name": "stdout",
     "output_type": "stream",
     "text": [
      "              minimum and maximum of obs. dimension 1: (113.86017f0, 164.882f0)\n",
      "              minimum and maximum of obs. dimension 2: (-29.86723f0, -10.717584f0)\n",
      "              minimum and maximum of obs. dimension 3: (0.0f0, 238.0f0)\n",
      "              minimum and maximum of obs. dimension 4: (DateTime(\"1899-12-30T00:00:00\"), DateTime(\"2022-09-11T13:18:21\"))\n",
      "                          minimum and maximum of data: (0.0010437907f0, 39.242805f0)\n"
     ]
    },
    {
     "name": "stderr",
     "output_type": "stream",
     "text": [
      "\u001b[36m\u001b[1m[ \u001b[22m\u001b[39m\u001b[36m\u001b[1mInfo: \u001b[22m\u001b[39mChecking ranges for dimensions and observations\n"
     ]
    }
   ],
   "source": [
    "checkobs((longitude_ancillary,latitude_ancillary,depth_ancillary,time_dates_ancillary),temperature,observation_id_ancillary)"
   ]
  },
  {
   "cell_type": "markdown",
   "metadata": {},
   "source": [
    "## Read the bathymetry to create the mask and bathymetric constraints"
   ]
  },
  {
   "cell_type": "code",
   "execution_count": null,
   "metadata": {},
   "outputs": [],
   "source": [
    "bathname = \"/tube1/cha674/CARS_2022/cars-v2/notebooks/gebco_30sec_16.nc\"\n",
    "@time bx,by,b = load_bath(bathname,true,lonr,latr);"
   ]
  },
  {
   "cell_type": "code",
   "execution_count": null,
   "metadata": {},
   "outputs": [],
   "source": [
    "figure(\"Australian Bathymetry\",figsize=(20,10))\n",
    "ax = subplot(1,1,1)\n",
    "pcolor(bx, by, permutedims(b, [2,1]));\n",
    "colorbar(orientation=\"vertical\", shrink=0.8).ax.tick_params(labelsize=8)\n",
    "contour(bx, by, permutedims(b, [2,1]), [0, 0.1], colors=\"k\", linewidths=.5)\n",
    "plot(longitude, latitude, \"ko\", markersize=.1, markerfacecolor=\"k\",label=\"WOD\")\n",
    "plot(longitude_ancillary, latitude_ancillary, \"ro\", markersize=.1, markerfacecolor=\"k\",label=\"AIMS/MNF\")\n",
    "xlim([142,155])\n",
    "ylim([-28,-10])\n",
    "legend()\n",
    "gca().set_aspect(aspectratio)\n",
    "ax.tick_params(\"both\",labelsize=6)"
   ]
  },
  {
   "cell_type": "code",
   "execution_count": null,
   "metadata": {},
   "outputs": [],
   "source": [
    "mask = falses(size(b,1),size(b,2),length(depthr))\n",
    "for k = 1:length(depthr)\n",
    "    for j = 1:size(b,2)\n",
    "        for i = 1:size(b,1)\n",
    "            mask[i,j,k] = b[i,j] >= depthr[k]\n",
    "        end\n",
    "    end\n",
    "end\n",
    "@show size(mask)"
   ]
  },
  {
   "cell_type": "code",
   "execution_count": null,
   "metadata": {},
   "outputs": [],
   "source": [
    "figure(\"Austrlaian Mask\")\n",
    "ax = subplot(1,1,1)\n",
    "gca().set_aspect(aspectratio)\n",
    "ax.tick_params(\"both\",labelsize=6)\n",
    "ax.pcolor(bx, by, transpose(mask[:,:,1]), cmap=PyPlot.cm.binary_r)\n",
    "ax.set_title(\"Land-sea mask\")"
   ]
  },
  {
   "cell_type": "code",
   "execution_count": null,
   "metadata": {},
   "outputs": [],
   "source": [
    "figure(\"Australia WOD\",figsize=(20,10))\n",
    "ax = subplot(1,1,1)\n",
    "ax.tick_params(\"both\",labelsize=6)\n",
    "contourf(bx, by, permutedims(Float64.(mask[:,:,1]),[2,1]),\n",
    "    levels=[-1e5,0],cmap=\"binary\"); \n",
    "plot(longitude, latitude, \"bo\", markersize=.2, \n",
    "    label=\"WOD\")\n",
    "plot(longitude_ancillary, latitude_ancillary, \"ro\", markersize=.2, \n",
    "    label=\"Ancillary\")\n",
    "\n",
    "#plot(obslonwod, obslatwod, \"go\", markersize=.2, \n",
    "#    label=\"World Ocean Database\");\n",
    "legend(fontsize=6);\n",
    "ylim(-28, -10);\n",
    "xlim(142, 155);\n",
    "gca().set_aspect(aspectratio)"
   ]
  },
  {
   "cell_type": "markdown",
   "metadata": {},
   "source": [
    "## Check duplicates\n",
    "We now check for duplicates between the WOD and ancillary datasets. Duplicates are flagged if two observations are within 0.01 degrees, 0.1m depth, 1 day and 0.01 degrees (temperatures). "
   ]
  },
  {
   "cell_type": "code",
   "execution_count": null,
   "metadata": {},
   "outputs": [],
   "source": [
    "@time dupl = DIVAnd.Quadtrees.checkduplicates(\n",
    "    (longitude,latitude,depth,time_dates), temperature,\n",
    "    (longitude_ancillary,latitude_ancillary,depth_ancillary,time_dates_ancillary), temperature_ancillary,\n",
    "    (0.01,0.01,0.01,1/(24*60)),0.01);\n",
    "\n",
    "\n",
    "index = findall(.!isempty.(dupl));\n",
    "ndupl = length(index);\n",
    "pcdupl = round(ndupl / length(longitude) * 100; digits=2);\n",
    "@info(\"Number of possible duplicates: $ndupl\")\n",
    "@info(\"Percentage of duplicates: $pcdupl%\")"
   ]
  },
  {
   "cell_type": "code",
   "execution_count": null,
   "metadata": {},
   "outputs": [],
   "source": [
    "newpoints = isempty.(dupl);\n",
    "@info(\"Number of new points: $(sum(newpoints)))\")\n",
    "\n",
    "longitude = [longitude; longitude_ancillary[newpoints]];\n",
    "latitude = [latitude; latitude_ancillary[newpoints]];\n",
    "depth = [depth; depth_ancillary[newpoints]];\n",
    "time_dates = [time_dates; time_dates_ancillary[newpoints]];\n",
    "temperature = [temperature; temperature_ancillary[newpoints]];\n"
   ]
  },
  {
   "cell_type": "code",
   "execution_count": null,
   "metadata": {},
   "outputs": [],
   "source": [
    "figure(\"Australia WOD\",figsize=(20,10))\n",
    "ax = subplot(1,1,1)\n",
    "ax.tick_params(\"both\",labelsize=6)\n",
    "contourf(bx, by, permutedims(Float64.(mask[:,:,1]),[2,1]),\n",
    "    levels=[-1e5,0],cmap=\"binary\"); \n",
    "plot(longitude, latitude, \"bo\", markersize=.2, \n",
    "    label=\"SeaDataNet\")\n",
    "#plot(obslonwod, obslatwod, \"go\", markersize=.2, \n",
    "#    label=\"World Ocean Database\");\n",
    "legend(fontsize=6);\n",
    "ylim(-28,-10.);\n",
    "xlim(142, 155);\n",
    "gca().set_aspect(aspectratio)"
   ]
  },
  {
   "cell_type": "markdown",
   "metadata": {},
   "source": [
    "## Set the length scales for the interpolation\n",
    "\n",
    "We now set the x,y and z covariance length scales for the DIVAnd software. We also specify the signal-to-noise ratio (epsilon)"
   ]
  },
  {
   "cell_type": "code",
   "execution_count": null,
   "metadata": {},
   "outputs": [],
   "source": [
    "sz = (length(lonr),length(latr),length(depthr));\n",
    "lenx = fill(500_000.,sz)  # 100 km\n",
    "leny = fill(250_000.,sz)   # 100 km\n",
    "lenz = fill(10.,sz);      # 25 m \n",
    "len = (lenx, leny, lenz);\n",
    "epsilon2 = 0.1;"
   ]
  },
  {
   "cell_type": "markdown",
   "metadata": {},
   "source": [
    "Set Destination directory for the output"
   ]
  },
  {
   "cell_type": "code",
   "execution_count": null,
   "metadata": {},
   "outputs": [],
   "source": [
    "outputdir = \"./Test_Data/output/\"\n",
    "if !isdir(outputdir)\n",
    "    mkpath(outputdir)\n",
    "end\n",
    "filename = joinpath(outputdir, \"Water_body_$(replace(varname,\" \"=>\"_\"))_GBR_Real_Depth.monthly.pfl.xbt.ctd.4Danl.with_ancillary.csiro_std_lvls.lx500.ly250.nc\")"
   ]
  },
  {
   "cell_type": "markdown",
   "metadata": {},
   "source": [
    "Specify output meta-data"
   ]
  },
  {
   "cell_type": "code",
   "execution_count": null,
   "metadata": {},
   "outputs": [],
   "source": [
    "metadata = OrderedDict(\n",
    "    # Name of the project (SeaDataCloud, SeaDataNet, EMODNET-chemistry, ...)\n",
    "    \"project\" => \"SeaDataCloud\",\n",
    "\n",
    "    # URN code for the institution EDMO registry,\n",
    "    # e.g. SDN:EDMO::1579\n",
    "    \"institution_urn\" => \"SDN:EDMO::1579\",\n",
    "\n",
    "    # Production group\n",
    "    #\"production\" => \"Diva group\",\n",
    "\n",
    "    # Name and emails from authors\n",
    "    \"Author_e-mail\" => [\"Your Name1 \", \"Other Name \"],\n",
    "\n",
    "    # Source of the observation\n",
    "    \"source\" => \"observational data from SeaDataNet and World Ocean Atlas\",\n",
    "\n",
    "    # Additional comment\n",
    "    \"comment\" => \"Duplicate removal applied to the merged dataset\",\n",
    "\n",
    "    # SeaDataNet Vocabulary P35 URN\n",
    "    # http://seadatanet.maris2.nl/v_bodc_vocab_v2/search.asp?lib=p35\n",
    "    # example: SDN:P35::WATERTEMP\n",
    "    \"parameter_keyword_urn\" => \"SDN:P35::EPC00001\",\n",
    "\n",
    "    # List of SeaDataNet Parameter Discovery Vocabulary P02 URNs\n",
    "    # http://seadatanet.maris2.nl/v_bodc_vocab_v2/search.asp?lib=p02\n",
    "    # example: [\"SDN:P02::TEMP\"]\n",
    "    \"search_keywords_urn\" => [\"SDN:P02::PSAL\"],\n",
    "\n",
    "    # List of SeaDataNet Vocabulary C19 area URNs\n",
    "    # SeaVoX salt and fresh water body gazetteer (C19)\n",
    "    # http://seadatanet.maris2.nl/v_bodc_vocab_v2/search.asp?lib=C19\n",
    "    # example: [\"SDN:C19::3_1\"]\n",
    "    \"area_keywords_urn\" => [\"SDN:C19::3_3\"],\n",
    "\n",
    "    \"product_version\" => \"1.0\",\n",
    "    \n",
    "    \"product_code\" => \"something-to-decide\",\n",
    "    \n",
    "    # bathymetry source acknowledgement\n",
    "    # see, e.g.\n",
    "    # * EMODnet Bathymetry Consortium (2016): EMODnet Digital Bathymetry (DTM).\n",
    "    # https://doi.org/10.12770/c7b53704-999d-4721-b1a3-04ec60c87238\n",
    "    # \n",
    "    # taken from\n",
    "    # http://www.emodnet-bathymetry.eu/data-products/acknowledgement-in-publications\n",
    "    #\n",
    "    # * The GEBCO Digital Atlas published by the British Oceanographic Data Centre on behalf of IOC and IHO, 2003\n",
    "    #\n",
    "    # taken from\n",
    "    # https://www.bodc.ac.uk/projects/data_management/international/gebco/gebco_digital_atlas/copyright_and_attribution/\n",
    "        \n",
    "    \"bathymetry_source\" => \"The GEBCO Digital Atlas published by the British Oceanographic Data Centre on behalf of IOC and IHO, 2003\",\n",
    "\n",
    "    # NetCDF CF standard name\n",
    "    # http://cfconventions.org/Data/cf-standard-names/current/build/cf-standard-name-table.html\n",
    "    # example \"standard_name\" = \"sea_water_temperature\",\n",
    "    \"netcdf_standard_name\" => \"temperature\",\n",
    "\n",
    "    \"netcdf_long_name\" => \"temperature\",\n",
    "\n",
    "    \"netcdf_units\" => \"1e-3\",\n",
    "\n",
    "    # Abstract for the product\n",
    "    \"abstract\" => \"...\",\n",
    "\n",
    "    # This option provides a place to acknowledge various types of support for the\n",
    "    # project that produced the data\n",
    "    \"acknowledgement\" => \"...\",\n",
    "\n",
    "    \"documentation\" => \"https://doi.org/doi_of_doc\",\n",
    "\n",
    "    # Digital Object Identifier of the data product\n",
    "    \"doi\" => \"...\");\n"
   ]
  },
  {
   "cell_type": "code",
   "execution_count": null,
   "metadata": {},
   "outputs": [],
   "source": [
    "ncglobalattrib, ncvarattrib = SDNMetadata(metadata, filename, varname, lonr, latr)\n"
   ]
  },
  {
   "cell_type": "markdown",
   "metadata": {},
   "source": [
    "Specify the output for intermediate plots (useful for checking output as code runs"
   ]
  },
  {
   "cell_type": "code",
   "execution_count": null,
   "metadata": {},
   "outputs": [],
   "source": [
    "function plotres(timeindex,sel,fit,erri)\n",
    "    tmp = copy(fit)\n",
    "    nx,ny,nz = size(tmp)\n",
    "    for i in 1:nz\n",
    "        figure(\"Australian Test Real Depth with ancillary\")\n",
    "        ax = subplot(1,1,1)\n",
    "        ax.tick_params(\"both\",labelsize=6)\n",
    "        ylim(-25, -10);\n",
    "        xlim(142,155 );\n",
    "        title(\"Depth: (timeindex)\", fontsize=6)\n",
    "        pcolor(lonr.-dx/2.,latr.-dy/2, permutedims(tmp[:,:,i], [2,1]);\n",
    "               vmin = 25, vmax = 32)\n",
    "        colorbar(extend=\"both\", orientation=\"vertical\", shrink=0.8).ax.tick_params(labelsize=8)\n",
    "\n",
    "        contourf(bx,by,permutedims(b,[2,1]), levels = [-1e5,0],colors = [[.5,.5,.5]])\n",
    "        aspectratio = 1/cos(mean(latr) * pi/180)\n",
    "        gca().set_aspect(aspectratio)\n",
    "        \n",
    "        figname = varname * @sprintf(\"_%02d\",i) * @sprintf(\"_%03d.png\",timeindex)\n",
    "        PyPlot.savefig(joinpath(figdir, figname), dpi=300, bbox_inches=\"tight\");\n",
    "        PyPlot.close_figs()\n",
    "    end\n",
    "end"
   ]
  },
  {
   "cell_type": "code",
   "execution_count": null,
   "metadata": {},
   "outputs": [],
   "source": [
    "if isfile(filename)\n",
    "    rm(filename) # delete the previous analysis\n",
    "    @info \"Removing file $filename\"\n",
    "end"
   ]
  },
  {
   "cell_type": "code",
   "execution_count": null,
   "metadata": {},
   "outputs": [],
   "source": [
    "figdir = \"./Test_Data/figures/\"\n",
    "if ~(isdir(figdir))\n",
    "    mkdir(figdir)\n",
    "else\n",
    "    @info(\"Figure directory already exists\")\n",
    "end"
   ]
  },
  {
   "cell_type": "code",
   "execution_count": null,
   "metadata": {},
   "outputs": [],
   "source": [
    " dbinfo = diva3d((Float64.(lonr),Float64.(latr),Float64.(depthr),TS),\n",
    "    (Float64.(longitude),Float64.(latitude),Float64.(depth),time_dates), Float64.(temperature),\n",
    "    len, epsilon2,\n",
    "    filename,varname,\n",
    "    bathname=bathname,\n",
    "    plotres = plotres,\n",
    "    mask = mask,\n",
    "    moddim = zeros(Float64,4 - 1),\n",
    "    fitcorrlen = false,\n",
    "    niter_e = 2,\n",
    "    ncvarattrib = ncvarattrib,\n",
    "    ncglobalattrib = ncglobalattrib,\n",
    "    surfextend = true\n",
    "    );"
   ]
  },
  {
   "cell_type": "code",
   "execution_count": null,
   "metadata": {},
   "outputs": [],
   "source": [
    "using Plots\n",
    "\n",
    "histogram(temperature,bins=range(0, 100, length=100))"
   ]
  },
  {
   "cell_type": "code",
   "execution_count": null,
   "metadata": {},
   "outputs": [],
   "source": [
    "import Pkg; Pkg.add(\"Plots\")"
   ]
  },
  {
   "cell_type": "code",
   "execution_count": null,
   "metadata": {},
   "outputs": [],
   "source": []
  }
 ],
 "metadata": {
  "kernelspec": {
   "display_name": "Julia 1.9.2",
   "language": "julia",
   "name": "julia-1.9"
  },
  "language_info": {
   "file_extension": ".jl",
   "mimetype": "application/julia",
   "name": "julia",
   "version": "1.9.2"
  }
 },
 "nbformat": 4,
 "nbformat_minor": 4
}
