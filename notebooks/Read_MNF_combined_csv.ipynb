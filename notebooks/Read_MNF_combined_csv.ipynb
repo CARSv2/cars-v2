{
 "cells": [
  {
   "cell_type": "code",
   "execution_count": 2,
   "id": "f078dc60",
   "metadata": {},
   "outputs": [],
   "source": [
    "import xarray\n",
    "import fsspec\n",
    "import numpy as np\n",
    "#import s3fs\n",
    "import proplot\n",
    "import os\n",
    "\n",
    "from matplotlib import pyplot as plt\n",
    "import pandas"
   ]
  },
  {
   "cell_type": "code",
   "execution_count": 3,
   "id": "cb64fb47",
   "metadata": {},
   "outputs": [
    {
     "name": "stderr",
     "output_type": "stream",
     "text": [
      "/tube1/cha674/Anaconda_Install/miniconda/envs/py3/lib/python3.7/site-packages/IPython/core/interactiveshell.py:3552: DtypeWarning: Columns (15) have mixed types.Specify dtype option on import or set low_memory=False.\n",
      "  exec(code_obj, self.user_global_ns, self.user_ns)\n"
     ]
    }
   ],
   "source": [
    "file_path = '/oa-decadal-climate/work/observations/CARSv2_ancillary/MNF_TAS'\n",
    "file_name = 'MNF_ctd_138.6E_47.9S_155.4E_37.5S.csv'\n",
    "\n",
    "header = pandas.read_csv(os.path.join(file_path,file_name), index_col=0, nrows=0).columns.tolist()\n",
    "\n",
    "MNF_CTD_dataframe = pandas.read_csv(os.path.join(file_path,file_name),header=0,usecols=[\"SURVEY_NAME\",\"STATION\",\n",
    "                                                                                        \"START_TIME\",\"END_TIME\",\n",
    "                                                                                        \"START_LAT\",\"START_LON\",\n",
    "                                                                                        \"END_LAT\",\"END_LON\",\n",
    "                                                                                        \"TEMPERATURE\",\"SALINITY\",\"TEMPERATURE_QC\",\"SALINITY_QC\",\"PRESSURE\"])"
   ]
  },
  {
   "cell_type": "code",
   "execution_count": 4,
   "id": "7eb5ef42",
   "metadata": {},
   "outputs": [],
   "source": [
    "#Loop through each \"survey\" (ie. cruise) and then each \"station\" (ie. each individual ctd cast)\n",
    "#Upack all  the lat, lon and time values into a single long list\n",
    "#upack all data variables (ie. a temperature cast as a function of pressure) into a list of arrays. \n",
    "#Each element in the list is a single cast\n",
    "\n",
    "survey_identifiers = MNF_CTD_dataframe['SURVEY_NAME'].unique()\n",
    "\n",
    "latitude  = []\n",
    "longitude = []\n",
    "time      = []\n",
    "\n",
    "pressure  = []\n",
    "temperature = []\n",
    "temperature_QC = []\n",
    "\n",
    "salinity   = []\n",
    "salinity_QC   = []\n",
    "\n",
    "\n",
    "\n",
    "\n",
    "for i_survey in survey_identifiers:\n",
    "    \n",
    "    dataframe_for_survey = MNF_CTD_dataframe.loc[MNF_CTD_dataframe['SURVEY_NAME']==i_survey]\n",
    "    stations_for_survey  = dataframe_for_survey['STATION'].unique()\n",
    "    for i_station in stations_for_survey:\n",
    "        \n",
    "        dataframe_for_station = dataframe_for_survey.loc[dataframe_for_survey['STATION']==i_station]\n",
    "        \n",
    "        \n",
    "        \n",
    "        latitude.append(dataframe_for_station['START_LAT'].unique())\n",
    "        longitude.append(dataframe_for_station['START_LON'].unique())\n",
    "        #CTD_depth.append(dataframe_for_station['BOTTOM_DEPTH'].unique())\n",
    "        \n",
    "        start_time = pandas.to_datetime(dataframe_for_station['START_TIME'])\n",
    "        end_time   = pandas.to_datetime(dataframe_for_station['END_TIME'])\n",
    "        middle_time = (end_time - start_time)/2 + start_time\n",
    "                                        \n",
    "        time.append(middle_time.unique())\n",
    "        \n",
    "        pressure.append(dataframe_for_station['PRESSURE'].values)\n",
    "        temperature.append(dataframe_for_station['TEMPERATURE'].values)\n",
    "        salinity.append(dataframe_for_station['SALINITY'].values)\n",
    "\n",
    "        temperature_QC.append(dataframe_for_station['TEMPERATURE_QC'].values)\n",
    "        salinity_QC.append(dataframe_for_station['SALINITY_QC'].values)\n",
    "\n",
    "        \n",
    "        \n",
    "latitude=np.asarray(latitude).squeeze()\n",
    "longitude=np.asarray(longitude).squeeze()\n",
    "time = pandas.to_datetime(np.asarray(time).squeeze())"
   ]
  },
  {
   "cell_type": "code",
   "execution_count": 5,
   "id": "1b5c5bc3",
   "metadata": {},
   "outputs": [
    {
     "data": {
      "text/plain": [
       "array([-38.9655 , -44.18917, -47.30017, ..., -43.62772, -46.91397,\n",
       "       -46.73156])"
      ]
     },
     "execution_count": 5,
     "metadata": {},
     "output_type": "execute_result"
    }
   ],
   "source": [
    "latitude"
   ]
  },
  {
   "cell_type": "code",
   "execution_count": null,
   "id": "9e7dbccf",
   "metadata": {},
   "outputs": [],
   "source": []
  }
 ],
 "metadata": {
  "kernelspec": {
   "display_name": "Python 3 (ipykernel)",
   "language": "python",
   "name": "python3"
  },
  "language_info": {
   "codemirror_mode": {
    "name": "ipython",
    "version": 3
   },
   "file_extension": ".py",
   "mimetype": "text/x-python",
   "name": "python",
   "nbconvert_exporter": "python",
   "pygments_lexer": "ipython3",
   "version": "3.7.7"
  }
 },
 "nbformat": 4,
 "nbformat_minor": 5
}
