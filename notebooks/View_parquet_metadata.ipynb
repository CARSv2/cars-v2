{
 "cells": [
  {
   "cell_type": "code",
   "execution_count": 2,
   "id": "442d2099-13a5-4b0b-8278-2619c4559e32",
   "metadata": {},
   "outputs": [],
   "source": [
    "import numpy as np\n",
    "#import s3fs\n",
    "#import proplot\n",
    "import os\n",
    "\n",
    "from matplotlib import pyplot as plt\n",
    "import polars\n",
    "import json\n",
    "import pyarrow\n",
    "import pyarrow.parquet as pq\n"
   ]
  },
  {
   "cell_type": "markdown",
   "id": "2ccc49ab",
   "metadata": {},
   "source": [
    "### Look at the metadata attached to the parquet files Chris has created"
   ]
  },
  {
   "cell_type": "code",
   "execution_count": 3,
   "id": "888dd784-d41c-4b90-98b1-8d13edf302d9",
   "metadata": {},
   "outputs": [
    {
     "name": "stdout",
     "output_type": "stream",
     "text": [
      "Reading file:  /scratch3/cow074/CODAv1/parquet/2000/WOD2018_CODA_2000_gld.parquet\n"
     ]
    }
   ],
   "source": [
    "i_platform = 'gld'\n",
    "year_to_get = 2000\n",
    "\n",
    "CODA_path = '/scratch3/cow074/CODAv1/parquet/'\n",
    "file_name = 'WOD2018_CODA_' + str(year_to_get) + '_' + str(i_platform) + '.parquet'\n",
    "file_name = os.path.join(CODA_path, str(year_to_get), file_name)\n",
    "print('Reading file: ', file_name)\n"
   ]
  },
  {
   "cell_type": "code",
   "execution_count": 13,
   "id": "4f12fae5-7aa5-4b50-84cf-d01449ab0d4c",
   "metadata": {},
   "outputs": [
    {
     "data": {
      "text/plain": [
       "pyarrow.Table\n",
       "Temperature: float\n",
       "Temperature_WODflag: int8\n",
       "Temperature_origflag: int8\n",
       "Salinity: float\n",
       "Salinity_WODflag: int8\n",
       "Salinity_origflag: int8\n",
       "Oxygen: float\n",
       "Oxygen_WODflag: int8\n",
       "Oxygen_origflag: int8\n",
       "Chlorophyll: float\n",
       "Chlorophyll_WODflag: int8\n",
       "Chlorophyll_origflag: int8\n",
       "z: float\n",
       "z_WODflag: int8\n",
       "z_origflag: int8\n",
       "lat: double\n",
       "lon: double\n",
       "wod_unique_cast: int64\n",
       "time: timestamp[ms]\n",
       "CODA_id: binary\n",
       "origflagset: string\n",
       "country: string\n",
       "dataset: string\n",
       "Access_no: int64\n",
       "dbase_orig: string\n",
       "Platform: string\n",
       "Project: string\n",
       "WOD_cruise_identifier: string\n",
       "Institute: string\n",
       "Ocean_Vehicle: string\n",
       "Temperature_Instrument: string\n",
       "----\n",
       "Temperature: [[22.3762,22.3681,22.3802,19.858,17.9438,...,11.2681,11.0561,10.9235,10.7209,10.6301]]\n",
       "Temperature_WODflag: [[0,0,0,0,0,...,0,0,0,0,0]]\n",
       "Temperature_origflag: [[1,1,1,1,4,...,1,1,1,1,1]]\n",
       "Salinity: [[36.36701,36.365883,36.36535,36.458054,36.34971,...,35.326637,35.305,35.282875,35.267715,35.258354]]\n",
       "Salinity_WODflag: [[0,0,0,0,0,...,0,0,0,0,0]]\n",
       "Salinity_origflag: [[1,1,1,1,4,...,1,1,1,1,1]]\n",
       "Oxygen: [[193.66,193.67,193.82,165.97,102.55,...,58.2,57.31,53.7,54.56,54.06]]\n",
       "Oxygen_WODflag: [[0,0,0,0,0,...,0,0,0,0,0]]\n",
       "Oxygen_origflag: [[1,1,1,1,1,...,1,1,1,1,1]]\n",
       "Chlorophyll: [[1.0164,0.9075,0.8712,1.0043,0.5929,...,-1e+10,-1e+10,-1e+10,-1e+10,-1e+10]]\n",
       "..."
      ]
     },
     "execution_count": 13,
     "metadata": {},
     "output_type": "execute_result"
    }
   ],
   "source": [
    "# to access metadata from the fields, can use this. But is resource-intensive and needs more for bigger files.\n",
    "df = pq.read_table(file_name)\n",
    "df"
   ]
  },
  {
   "cell_type": "code",
   "execution_count": 15,
   "id": "4c26525f-8164-4cf5-bb2d-6e1dfea72e36",
   "metadata": {},
   "outputs": [
    {
     "data": {
      "text/plain": [
       "{b'_FillValue': b'\"nan\"',\n",
       " b'standard_name': b'\"depth\"',\n",
       " b'long_name': b'\"depth_below_sea_surface\"',\n",
       " b'units': b'\"m\"',\n",
       " b'positive': b'\"down\"',\n",
       " b'ancillary_variables': b'\"z_sigfigs z_WODflag z_origflag\"'}"
      ]
     },
     "execution_count": 15,
     "metadata": {},
     "output_type": "execute_result"
    }
   ],
   "source": [
    "df.field('z').metadata"
   ]
  },
  {
   "cell_type": "code",
   "execution_count": 16,
   "id": "9dccce58-f5eb-48d3-af5b-49475b5dbad7",
   "metadata": {},
   "outputs": [
    {
     "data": {
      "text/plain": [
       "['Temperature',\n",
       " 'Temperature_WODflag',\n",
       " 'Temperature_origflag',\n",
       " 'Salinity',\n",
       " 'Salinity_WODflag',\n",
       " 'Salinity_origflag',\n",
       " 'Oxygen',\n",
       " 'Oxygen_WODflag',\n",
       " 'Oxygen_origflag',\n",
       " 'Chlorophyll',\n",
       " 'Chlorophyll_WODflag',\n",
       " 'Chlorophyll_origflag',\n",
       " 'z',\n",
       " 'z_WODflag',\n",
       " 'z_origflag',\n",
       " 'lat',\n",
       " 'lon',\n",
       " 'wod_unique_cast',\n",
       " 'time',\n",
       " 'CODA_id',\n",
       " 'origflagset',\n",
       " 'country',\n",
       " 'dataset',\n",
       " 'Access_no',\n",
       " 'dbase_orig',\n",
       " 'Platform',\n",
       " 'Project',\n",
       " 'WOD_cruise_identifier',\n",
       " 'Institute',\n",
       " 'Ocean_Vehicle',\n",
       " 'Temperature_Instrument']"
      ]
     },
     "execution_count": 16,
     "metadata": {},
     "output_type": "execute_result"
    }
   ],
   "source": [
    "# display the schema names\n",
    "df.schema.names\n"
   ]
  },
  {
   "cell_type": "code",
   "execution_count": null,
   "id": "f4a4dcd4-263c-471e-9d72-33349ebda711",
   "metadata": {},
   "outputs": [],
   "source": []
  }
 ],
 "metadata": {
  "kernelspec": {
   "display_name": "Python 3 (ipykernel)",
   "language": "python",
   "name": "python3"
  },
  "language_info": {
   "codemirror_mode": {
    "name": "ipython",
    "version": 3
   },
   "file_extension": ".py",
   "mimetype": "text/x-python",
   "name": "python",
   "nbconvert_exporter": "python",
   "pygments_lexer": "ipython3",
   "version": "3.12.0"
  }
 },
 "nbformat": 4,
 "nbformat_minor": 5
}
