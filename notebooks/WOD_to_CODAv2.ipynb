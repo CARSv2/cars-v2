{
 "cells": [
  {
   "cell_type": "code",
   "execution_count": 1,
   "id": "5657903e",
   "metadata": {},
   "outputs": [
    {
     "name": "stderr",
     "output_type": "stream",
     "text": [
      "/tube1/cha674/Anaconda_Install/miniconda/envs/py3/lib/python3.7/_collections_abc.py:841: MatplotlibDeprecationWarning: \n",
      "The examples.directory rcparam was deprecated in Matplotlib 3.0 and will be removed in 3.2. In the future, examples will be found relative to the 'datapath' directory.\n",
      "  self[key] = other[key]\n"
     ]
    }
   ],
   "source": [
    "import xarray\n",
    "import fsspec\n",
    "import numpy as np\n",
    "import s3fs\n",
    "import proplot\n",
    "import os\n",
    "\n",
    "from matplotlib import pyplot as plt\n",
    "import pandas"
   ]
  },
  {
   "cell_type": "code",
   "execution_count": 2,
   "id": "12c27068",
   "metadata": {},
   "outputs": [],
   "source": [
    "import sys\n",
    "sys.path.append('/tube1/cha674/CARS_2022/cars-v2/wodpy/wodpy')\n",
    "import wodnc"
   ]
  },
  {
   "cell_type": "code",
   "execution_count": 3,
   "id": "f0a181f1",
   "metadata": {},
   "outputs": [],
   "source": [
    "START_YEAR = 2010\n",
    "END_YEAR   = 2011"
   ]
  },
  {
   "cell_type": "code",
   "execution_count": null,
   "id": "78773143",
   "metadata": {},
   "outputs": [],
   "source": [
    "obs_type = ['ctd','xbt','pfl'] #,'mrb','gld'] #,'drb'] #,'gld']\n",
    "#obs_type = ['ctd']\n",
    "\n",
    "base_s3_url = 's3://noaa-wod-pds'\n",
    "\n",
    "data_container = {}\n",
    "\n",
    "output_directory = '/tube1/cha674/CARS_2022_ancillary_data/WOD_2018'\n",
    "\n",
    "for i_year in range(START_YEAR,END_YEAR+1):\n",
    "\n",
    "    data_container_for_year = {}\n",
    "    for i_obs_type in obs_type:\n",
    "        url = base_s3_url + '/' + str(i_year) + '/wod_' + i_obs_type + '_' + str(i_year) + '.nc' #_pfl_2018.nc'\n",
    "        print(url)\n",
    "        fs = s3fs.S3FileSystem(anon=True)\n",
    "        file_obj = fs.open(url)\n",
    "        ds = xarray.open_dataset(file_obj,engine='h5netcdf')\n",
    "        data_container_for_year[i_obs_type] = ds\n",
    "        \n",
    "        #Write data out\n",
    "        if not os.path.isdir(os.path.join(output_directory,str(i_year))):\n",
    "            os.mkdir(os.path.join(output_directory,str(i_year)))\n",
    "        print(os.path.join(output_directory,str(i_year),'wod_' + i_obs_type + '_' + str(i_year) + '.nc'))\n",
    "        ds.to_netcdf(os.path.join(output_directory,str(i_year),'wod_' + i_obs_type + '_' + str(i_year) + '.nc'))\n",
    "        \n",
    "    data_container[i_year] = data_container_for_year"
   ]
  },
  {
   "cell_type": "code",
   "execution_count": null,
   "id": "4d69e98e",
   "metadata": {},
   "outputs": [
    {
     "name": "stdout",
     "output_type": "stream",
     "text": [
      "Working on year:  2010\n",
      "Working on platform:  ctd\n",
      "Profile:  0  of  28008\n",
      "Profile:  1000  of  28008\n",
      "Profile:  2000  of  28008\n",
      "Profile:  3000  of  28008\n",
      "Profile:  4000  of  28008\n",
      "Profile:  5000  of  28008\n",
      "Profile:  6000  of  28008\n",
      "Profile:  7000  of  28008\n",
      "Profile:  8000  of  28008\n",
      "Profile:  9000  of  28008\n",
      "Profile:  10000  of  28008\n",
      "Profile:  11000  of  28008\n",
      "Profile:  12000  of  28008\n",
      "Profile:  13000  of  28008\n",
      "Profile:  14000  of  28008\n",
      "Profile:  15000  of  28008\n",
      "Profile:  16000  of  28008\n",
      "Profile:  17000  of  28008\n",
      "Profile:  18000  of  28008\n",
      "Profile:  19000  of  28008\n",
      "Profile:  20000  of  28008\n",
      "Profile:  21000  of  28008\n",
      "Profile:  22000  of  28008\n",
      "Profile:  23000  of  28008\n",
      "Profile:  24000  of  28008\n",
      "Profile:  25000  of  28008\n",
      "Profile:  26000  of  28008\n",
      "Profile:  27000  of  28008\n",
      "Profile:  28000  of  28008\n",
      "Writing file: WOD_CODA_2010_ctd_test_all_vars.nc\n",
      "Working on platform:  xbt\n",
      "Profile:  0  of  21174\n",
      "Profile:  1000  of  21174\n",
      "Profile:  2000  of  21174\n",
      "Profile:  3000  of  21174\n",
      "Profile:  4000  of  21174\n",
      "Profile:  5000  of  21174\n",
      "Profile:  6000  of  21174\n",
      "Profile:  7000  of  21174\n"
     ]
    }
   ],
   "source": [
    "WOD_directory = '//oa-decadal-climate/work/observations/CARSv2_ancillary/WOD2018'\n",
    "platforms_to_get = ['ctd','xbt','pfl']\n",
    "WOD_file_name_stem = 'wod_'\n",
    "\n",
    "profile_vars_to_get = ['Oxygen','Temperature','Salinity','z']\n",
    "point_vars_to_get   = ['lat','lon'] #,'time','wod_unique_cast']\n",
    "ancillary_vars_to_get = ['origflagset','country','dataset','Access_no','Recorder',\n",
    "                         'dbase_orig','Platform','Project','WOD_cruise_identifier',\n",
    "                         'Institute','needs_z_fix','Ocean_Vehicle','Temperature_Instrument']\n",
    "\n",
    "output_path = '/oa-decadal-climate/work/observations/CARSv2_ancillary/CODA/WOD_CODA_test_v2'\n",
    "\n",
    "FILL_VALUE = -10000000000.0\n",
    "\n",
    "for i_year in range(START_YEAR,END_YEAR+1):\n",
    "    print('Working on year: ', i_year)\n",
    "    for i_platform in platforms_to_get:\n",
    "        print('Working on platform: ', i_platform)\n",
    "\n",
    "        file_name  = WOD_file_name_stem + i_platform + '_' + str(i_year) + '.nc'\n",
    "        WOD_ragged_object = wodnc.Ragged(os.path.join(WOD_directory,str(i_year),file_name))\n",
    "        n_profiles = WOD_ragged_object.ncasts()\n",
    "        \n",
    "        max_depth_levels = 0\n",
    "        \n",
    "        for i_profile in range(0,n_profiles):\n",
    "            \n",
    "            WOD_profile_object = wodnc.ncProfile(WOD_ragged_object,i_profile)\n",
    "            n_depth_levels  = WOD_profile_object.n_levels()\n",
    "            \n",
    "            if n_depth_levels>max_depth_levels:\n",
    "                max_depth_levels = n_depth_levels\n",
    "        \n",
    "         \n",
    "        #END for i_profile\n",
    "        vars_in_dataset = list(WOD_ragged_object.variables().keys())\n",
    "        \n",
    "        \n",
    "        profile_data_container   = {}\n",
    "        ancillary_data_container = {}\n",
    "        attributes_data_container = {}\n",
    "        \n",
    "        for i_var in profile_vars_to_get:\n",
    "            if i_var in vars_in_dataset:\n",
    "\n",
    "                profile_data_container[i_var] = np.nan*np.zeros([n_profiles,max_depth_levels],dtype='float32')\n",
    "                profile_data_container[i_var + '_WODflag'] = np.nan*np.zeros([n_profiles,max_depth_levels],dtype='int8')\n",
    "                profile_data_container[i_var + '_origflag'] = np.nan*np.zeros([n_profiles,max_depth_levels],dtype='float32')\n",
    "                \n",
    "                attributes_data_container[i_var]            = {}\n",
    "                attributes_data_container[i_var + '_WODflag']  = {}\n",
    "                attributes_data_container[i_var + '_origflag'] = {}\n",
    "        #END for i_var\n",
    "\n",
    "        \n",
    "        \n",
    "        point_data_container = {}\n",
    "        for i_var in point_vars_to_get:\n",
    "            point_data_container[i_var] = np.nan*np.zeros([n_profiles],dtype='float32')\n",
    "            \n",
    "            attributes_data_container[i_var] = {}\n",
    "\n",
    "        point_data_container['time']                 = np.zeros([n_profiles],dtype='datetime64[ns]')\n",
    "        point_data_container['wod_unique_cast']      = np.zeros([n_profiles],dtype='int32')\n",
    "        \n",
    "        attributes_data_container['wod_unique_cast'] = {}\n",
    "        attributes_data_container['time'] = {}\n",
    "\n",
    "        \n",
    "        for i_ancillary_var in ancillary_vars_to_get:\n",
    "            if i_ancillary_var in vars_in_dataset:\n",
    "                \n",
    "                ancillary_data_container[i_ancillary_var]  = 0\n",
    "                attributes_data_container[i_ancillary_var] = {}\n",
    "\n",
    "        \n",
    "        \n",
    "        #Begin the loop through the profiles\n",
    "        \n",
    "        for i_profile in range(0,n_profiles):\n",
    "            \n",
    "            if (i_profile % 1000) ==0:\n",
    "                print(\"Profile: \", i_profile, ' of ', n_profiles)\n",
    "            \n",
    "            WOD_profile_object   = wodnc.ncProfile(WOD_ragged_object,i_profile)                \n",
    "            \n",
    "            for i_var in profile_data_container:\n",
    "                current_variable     = WOD_profile_object.level_unpack(i_var)\n",
    "                 \n",
    "                if current_variable.size != 0:\n",
    "                    #Test for missing data on profile\n",
    "                    profile_data_container[i_var][i_profile,0:current_variable.size] = current_variable\n",
    "                    \n",
    "                    \n",
    "                #END if current_variable.size != 0:\n",
    "            #END for i_var\n",
    "            \n",
    "            if i_profile ==0:\n",
    "                for i_var in profile_data_container:\n",
    "                    variable_attributes = WOD_profile_object.show_variable_attr(i_var)\n",
    "                    for i_attribute in variable_attributes:\n",
    "                        attributes_data_container[i_var][i_attribute] = WOD_profile_object.get_variable_attr(i_var,i_attribute)\n",
    "                    #END for i_attribute\n",
    "                #for i_var \n",
    "            #if i_profile ==0 \n",
    "            \n",
    "\n",
    "            \n",
    "            \n",
    "            \n",
    "            point_data_container['wod_unique_cast'][i_profile] = WOD_profile_object.metadata('wod_unique_cast')\n",
    "            if i_profile==0:\n",
    "                variable_attributes = WOD_profile_object.show_variable_attr('wod_unique_cast')\n",
    "                for i_attribute in variable_attributes:\n",
    "                    attributes_data_container['wod_unique_cast'][i_attribute] = WOD_profile_object.get_variable_attr('wod_unique_cast',i_attribute)\n",
    "            \n",
    "            \n",
    "            \n",
    "            point_data_container['time'][i_profile] = np.datetime64(WOD_profile_object.datetime())\n",
    "            if i_profile==0:\n",
    "                variable_attributes = WOD_profile_object.show_variable_attr('time')\n",
    "                for i_attribute in variable_attributes:\n",
    "                    attributes_data_container['time'][i_attribute] = WOD_profile_object.get_variable_attr('time',i_attribute)\n",
    "            \n",
    "            for i_var in point_vars_to_get:\n",
    "                if i_var in vars_in_dataset:\n",
    "                    point_data_container[i_var][i_profile] = WOD_profile_object.metadata(i_var)\n",
    "                    \n",
    "                    if i_profile==0:\n",
    "                        variable_attributes = WOD_profile_object.show_variable_attr(i_var)\n",
    "                        for i_attribute in variable_attributes:\n",
    "                            \n",
    "                            attributes_data_container[i_var][i_attribute] = WOD_profile_object.get_variable_attr(i_var,i_attribute)\n",
    "                #END if i_var\n",
    "            #END for i_var\n",
    "            \n",
    "            \n",
    "            for i_ancillary_var in ancillary_data_container.keys():\n",
    "                current_ancillary_var = WOD_profile_object.metadata(i_ancillary_var)\n",
    "                #print(type(current_ancillary_var))\n",
    "                \n",
    "                \n",
    "                if i_profile ==0:\n",
    "                    var_type = type(current_ancillary_var)\n",
    "                    if var_type is str:\n",
    "                        \n",
    "                        ancillary_data_container[i_ancillary_var] = np.zeros([n_profiles],dtype='S{}'.format(20))\n",
    "                    else:\n",
    "                        ancillary_data_container[i_ancillary_var] = np.zeros([n_profiles],dtype=var_type)\n",
    "                    #END if var_type=='str'\n",
    "                    \n",
    "\n",
    "                    ancillary_variable_attributes = WOD_profile_object.show_variable_attr(i_ancillary_var)\n",
    "\n",
    "                    for i_attribute in ancillary_variable_attributes:\n",
    "                         attributes_data_container[i_ancillary_var][i_attribute] = WOD_profile_object.get_variable_attr(i_ancillary_var,i_attribute)\n",
    "\n",
    "                    #END for i_attribute\n",
    "                #END if i_profile = 0\n",
    "                \n",
    "                ancillary_data_container[i_ancillary_var][i_profile] = current_ancillary_var\n",
    "\n",
    "            #END for i_ancillary_var\n",
    "            \n",
    "            if i_profile==0:\n",
    "                crs_attribs = {}\n",
    "                crs = WOD_profile_object.r.variables()['crs'][:]\n",
    "\n",
    "                for i_attr in WOD_profile_object.show_variable_attr('crs'):\n",
    "                    crs_attribs[i_attr] = WOD_profile_object.get_variable_attr('crs',i_attr)\n",
    "            \n",
    "        #END for i_profile\n",
    "        \n",
    "        cast_index = np.arange(1,n_profiles+1)\n",
    "        \n",
    "        \n",
    "        \n",
    "        CODA_output_dataset = xarray.DataArray(point_data_container['wod_unique_cast'],dims=['cast'],coords={'cast':cast_index},attrs = attributes_data_container['wod_unique_cast'])\n",
    "        CODA_output_dataset = CODA_output_dataset.to_dataset(name='WOD_id')                                  \n",
    "        \n",
    "        \n",
    "        CODA_output_dataset['time'] = xarray.DataArray(point_data_container['time'],dims=['cast'],coords={'cast':cast_index} ) #,attrs = attributes_data_container['time'])\n",
    "        CODA_output_dataset['time'].encoding['units'] = 'days since 1770-01-01T00:00:00+00:00'\n",
    "        CODA_output_dataset['time'].encoding['calendar'] = 'proleptic_gregorian'\n",
    "        CODA_output_dataset['time'].encoding['_FillValue'] = FILL_VALUE\n",
    "\n",
    "        \n",
    "        \n",
    "        #Add the point or cast information (lat and lon)\n",
    "        for i_var in point_vars_to_get:\n",
    "            CODA_output_dataset[i_var] = xarray.DataArray(point_data_container[i_var],dims=['cast'],coords={'cast':cast_index},attrs = attributes_data_container[i_var])\n",
    "            CODA_output_dataset[i_var] = CODA_output_dataset[i_var].fillna(FILL_VALUE)\n",
    "            CODA_output_dataset[i_var].attrs['_FillValue'] = FILL_VALUE\n",
    "        #END for i_var\n",
    "            \n",
    "        #Add the ancillary data\n",
    "        for i_ancillary_var in ancillary_data_container.keys():\n",
    "            CODA_output_dataset[i_ancillary_var] = xarray.DataArray(ancillary_data_container[i_ancillary_var],dims=['cast'],coords={'cast':cast_index},\n",
    "                                                                    attrs = attributes_data_container[i_ancillary_var])\n",
    "            if '_FillValue' in CODA_output_dataset[i_ancillary_var].attrs:\n",
    "                #print('found fill value')\n",
    "                #print(CODA_output_dataset[i_ancillary_var])\n",
    "                CODA_output_dataset[i_ancillary_var].attrs['_FillValue'] = FILL_VALUE\n",
    "                CODA_output_dataset[i_ancillary_var] = CODA_output_dataset[i_ancillary_var].fillna(FILL_VALUE)\n",
    "            #END if \n",
    "        #END for i_ancillary_var\n",
    "            \n",
    "            \n",
    "        #Add the profile data\n",
    "        for i_var in profile_data_container.keys():\n",
    "            CODA_output_dataset[i_var]  = xarray.DataArray(profile_data_container[i_var],dims=['cast','z_index'],\n",
    "                                                            coords= {'cast':cast_index,'z_index':np.arange(0,max_depth_levels,1)}, attrs = attributes_data_container[i_var])\n",
    "            \n",
    "            CODA_output_dataset[i_var] = CODA_output_dataset[i_var].fillna(FILL_VALUE)\n",
    "            CODA_output_dataset[i_var].attrs['_FillValue'] = FILL_VALUE\n",
    "        #END for i_var\n",
    "        \n",
    "        CODA_output_dataset['crs']       = xarray.DataArray(crs,dims=[],attrs = crs_attribs)        \n",
    "        \n",
    "        source_data = 'WOD'\n",
    "        CODA_dates = CODA_output_dataset['time'].dt.date.values\n",
    "        unique_dates = pandas.to_datetime(np.unique(CODA_dates))\n",
    "\n",
    "        CODA_id_length = 18\n",
    "        CODA_ID = np.array(['' for _ in range(CODA_output_dataset['cast'].size)], dtype='S{}'.format(CODA_id_length))\n",
    "\n",
    "        profile_counter = 0\n",
    "        for i_date in unique_dates:\n",
    "    \n",
    "            idx_for_date   =  np.nonzero(CODA_output_dataset['time'].dt.date.values == i_date)[0]\n",
    "            count_for_date =  idx_for_date.size\n",
    "            for i_profile in range(0,count_for_date):   \n",
    "    \n",
    "                CODA_id_current_profiles = source_data + i_platform + i_date.strftime('%Y%m%d') + f'{i_profile+1:04}'\n",
    "                CODA_ID[profile_counter] = CODA_id_current_profiles\n",
    "        \n",
    "                profile_counter = profile_counter+1\n",
    "            #END for i_profile\n",
    "        #END for i_date\n",
    "\n",
    "        CODA_output_dataset['CODA_id'] = xarray.DataArray(CODA_ID,dims=['cast'],coords={'cast':cast_index},\n",
    "                                                          attrs={'Comment':'Unique CODA identifier with format <Source Dataset><Obs Platform><Counter for date><YYYYMMDD>'})\n",
    "        CODA_output_dataset.attrs = {'Parent ragged array file':file_name}\n",
    "        \n",
    "        output_file_name = 'WOD_CODA_' + str(i_year) + '_' + str(i_platform) + '_test_all_vars.nc'\n",
    "        print('Writing file:', output_file_name)\n",
    "        if not os.path.isdir(os.path.join(output_path,str(i_year))):\n",
    "            os.mkdir(os.path.join(output_path,str(i_year)))\n",
    "    \n",
    "        CODA_output_dataset.to_netcdf(os.path.join(output_path,str(i_year),output_file_name)) #,encoding=encoding) #,engine='netcdf4')\n",
    "\n",
    "        "
   ]
  },
  {
   "cell_type": "code",
   "execution_count": 46,
   "id": "471c15ca",
   "metadata": {},
   "outputs": [
    {
     "data": {
      "text/plain": [
       "{'_FillValue': -10000000000.0,\n",
       " 'standard_name': 'time',\n",
       " 'long_name': 'time',\n",
       " 'units': 'days since 1770-01-01T00:00:00+00:00',\n",
       " 'calendar': 'proleptic_gregorian'}"
      ]
     },
     "execution_count": 46,
     "metadata": {},
     "output_type": "execute_result"
    }
   ],
   "source": [
    "attributes_data_container['time']"
   ]
  },
  {
   "cell_type": "code",
   "execution_count": 37,
   "id": "e5254508",
   "metadata": {},
   "outputs": [
    {
     "ename": "KeyError",
     "evalue": "'Temperature'",
     "output_type": "error",
     "traceback": [
      "\u001b[0;31m---------------------------------------------------------------------------\u001b[0m",
      "\u001b[0;31mKeyError\u001b[0m                                  Traceback (most recent call last)",
      "\u001b[0;32m/tube1/cha674/Anaconda_Install/miniconda/envs/py3/lib/python3.7/site-packages/xarray/core/dataset.py\u001b[0m in \u001b[0;36m_construct_dataarray\u001b[0;34m(self, name)\u001b[0m\n\u001b[1;32m   1394\u001b[0m         \u001b[0;32mtry\u001b[0m\u001b[0;34m:\u001b[0m\u001b[0;34m\u001b[0m\u001b[0;34m\u001b[0m\u001b[0m\n\u001b[0;32m-> 1395\u001b[0;31m             \u001b[0mvariable\u001b[0m \u001b[0;34m=\u001b[0m \u001b[0mself\u001b[0m\u001b[0;34m.\u001b[0m\u001b[0m_variables\u001b[0m\u001b[0;34m[\u001b[0m\u001b[0mname\u001b[0m\u001b[0;34m]\u001b[0m\u001b[0;34m\u001b[0m\u001b[0;34m\u001b[0m\u001b[0m\n\u001b[0m\u001b[1;32m   1396\u001b[0m         \u001b[0;32mexcept\u001b[0m \u001b[0mKeyError\u001b[0m\u001b[0;34m:\u001b[0m\u001b[0;34m\u001b[0m\u001b[0;34m\u001b[0m\u001b[0m\n",
      "\u001b[0;31mKeyError\u001b[0m: 'Temperature'",
      "\nDuring handling of the above exception, another exception occurred:\n",
      "\u001b[0;31mKeyError\u001b[0m                                  Traceback (most recent call last)",
      "\u001b[0;32m/tmp/ipykernel_4030/896006398.py\u001b[0m in \u001b[0;36m<module>\u001b[0;34m\u001b[0m\n\u001b[0;32m----> 1\u001b[0;31m \u001b[0mCODA_output_dataset\u001b[0m\u001b[0;34m[\u001b[0m\u001b[0;34m'Temperature'\u001b[0m\u001b[0;34m]\u001b[0m\u001b[0;34m.\u001b[0m\u001b[0mattrs\u001b[0m\u001b[0;34m[\u001b[0m\u001b[0;34m'_FillValue'\u001b[0m\u001b[0;34m]\u001b[0m\u001b[0;34m\u001b[0m\u001b[0;34m\u001b[0m\u001b[0m\n\u001b[0m",
      "\u001b[0;32m/tube1/cha674/Anaconda_Install/miniconda/envs/py3/lib/python3.7/site-packages/xarray/core/dataset.py\u001b[0m in \u001b[0;36m__getitem__\u001b[0;34m(self, key)\u001b[0m\n\u001b[1;32m   1497\u001b[0m \u001b[0;34m\u001b[0m\u001b[0m\n\u001b[1;32m   1498\u001b[0m         \u001b[0;32mif\u001b[0m \u001b[0mhashable\u001b[0m\u001b[0;34m(\u001b[0m\u001b[0mkey\u001b[0m\u001b[0;34m)\u001b[0m\u001b[0;34m:\u001b[0m\u001b[0;34m\u001b[0m\u001b[0;34m\u001b[0m\u001b[0m\n\u001b[0;32m-> 1499\u001b[0;31m             \u001b[0;32mreturn\u001b[0m \u001b[0mself\u001b[0m\u001b[0;34m.\u001b[0m\u001b[0m_construct_dataarray\u001b[0m\u001b[0;34m(\u001b[0m\u001b[0mkey\u001b[0m\u001b[0;34m)\u001b[0m\u001b[0;34m\u001b[0m\u001b[0;34m\u001b[0m\u001b[0m\n\u001b[0m\u001b[1;32m   1500\u001b[0m         \u001b[0;32melse\u001b[0m\u001b[0;34m:\u001b[0m\u001b[0;34m\u001b[0m\u001b[0;34m\u001b[0m\u001b[0m\n\u001b[1;32m   1501\u001b[0m             \u001b[0;32mreturn\u001b[0m \u001b[0mself\u001b[0m\u001b[0;34m.\u001b[0m\u001b[0m_copy_listed\u001b[0m\u001b[0;34m(\u001b[0m\u001b[0mkey\u001b[0m\u001b[0;34m)\u001b[0m\u001b[0;34m\u001b[0m\u001b[0;34m\u001b[0m\u001b[0m\n",
      "\u001b[0;32m/tube1/cha674/Anaconda_Install/miniconda/envs/py3/lib/python3.7/site-packages/xarray/core/dataset.py\u001b[0m in \u001b[0;36m_construct_dataarray\u001b[0;34m(self, name)\u001b[0m\n\u001b[1;32m   1396\u001b[0m         \u001b[0;32mexcept\u001b[0m \u001b[0mKeyError\u001b[0m\u001b[0;34m:\u001b[0m\u001b[0;34m\u001b[0m\u001b[0;34m\u001b[0m\u001b[0m\n\u001b[1;32m   1397\u001b[0m             _, name, variable = _get_virtual_variable(\n\u001b[0;32m-> 1398\u001b[0;31m                 \u001b[0mself\u001b[0m\u001b[0;34m.\u001b[0m\u001b[0m_variables\u001b[0m\u001b[0;34m,\u001b[0m \u001b[0mname\u001b[0m\u001b[0;34m,\u001b[0m \u001b[0mself\u001b[0m\u001b[0;34m.\u001b[0m\u001b[0m_level_coords\u001b[0m\u001b[0;34m,\u001b[0m \u001b[0mself\u001b[0m\u001b[0;34m.\u001b[0m\u001b[0mdims\u001b[0m\u001b[0;34m\u001b[0m\u001b[0;34m\u001b[0m\u001b[0m\n\u001b[0m\u001b[1;32m   1399\u001b[0m             )\n\u001b[1;32m   1400\u001b[0m \u001b[0;34m\u001b[0m\u001b[0m\n",
      "\u001b[0;32m/tube1/cha674/Anaconda_Install/miniconda/envs/py3/lib/python3.7/site-packages/xarray/core/dataset.py\u001b[0m in \u001b[0;36m_get_virtual_variable\u001b[0;34m(variables, key, level_vars, dim_sizes)\u001b[0m\n\u001b[1;32m    168\u001b[0m         \u001b[0mref_var\u001b[0m \u001b[0;34m=\u001b[0m \u001b[0mdim_var\u001b[0m\u001b[0;34m.\u001b[0m\u001b[0mto_index_variable\u001b[0m\u001b[0;34m(\u001b[0m\u001b[0;34m)\u001b[0m\u001b[0;34m.\u001b[0m\u001b[0mget_level_variable\u001b[0m\u001b[0;34m(\u001b[0m\u001b[0mref_name\u001b[0m\u001b[0;34m)\u001b[0m\u001b[0;34m\u001b[0m\u001b[0;34m\u001b[0m\u001b[0m\n\u001b[1;32m    169\u001b[0m     \u001b[0;32melse\u001b[0m\u001b[0;34m:\u001b[0m\u001b[0;34m\u001b[0m\u001b[0;34m\u001b[0m\u001b[0m\n\u001b[0;32m--> 170\u001b[0;31m         \u001b[0mref_var\u001b[0m \u001b[0;34m=\u001b[0m \u001b[0mvariables\u001b[0m\u001b[0;34m[\u001b[0m\u001b[0mref_name\u001b[0m\u001b[0;34m]\u001b[0m\u001b[0;34m\u001b[0m\u001b[0;34m\u001b[0m\u001b[0m\n\u001b[0m\u001b[1;32m    171\u001b[0m \u001b[0;34m\u001b[0m\u001b[0m\n\u001b[1;32m    172\u001b[0m     \u001b[0;32mif\u001b[0m \u001b[0mvar_name\u001b[0m \u001b[0;32mis\u001b[0m \u001b[0;32mNone\u001b[0m\u001b[0;34m:\u001b[0m\u001b[0;34m\u001b[0m\u001b[0;34m\u001b[0m\u001b[0m\n",
      "\u001b[0;31mKeyError\u001b[0m: 'Temperature'"
     ]
    }
   ],
   "source": [
    "CODA_output_dataset['Temperature'].attrs['_FillValue']"
   ]
  },
  {
   "cell_type": "code",
   "execution_count": 41,
   "id": "092acd82",
   "metadata": {},
   "outputs": [
    {
     "data": {
      "text/plain": [
       "[<matplotlib.lines.Line2D at 0x7f00b1536150>]"
      ]
     },
     "execution_count": 41,
     "metadata": {},
     "output_type": "execute_result"
    },
    {
     "data": {
      "image/png": "[encoded data removed]",
      "text/plain": [
       "<Figure size 640x480 with 1 Axes>"
      ]
     },
     "metadata": {
      "image/png": {
       "height": 480,
       "width": 640
      }
     },
     "output_type": "display_data"
    }
   ],
   "source": [
    "i_cast =500\n",
    "\n",
    "plt.plot(CODA_test['Temperature'].isel(cast=i_cast),-CODA_test['z'].isel(cast=i_cast))"
   ]
  },
  {
   "cell_type": "code",
   "execution_count": 14,
   "id": "bab21fdd",
   "metadata": {},
   "outputs": [
    {
     "name": "stdout",
     "output_type": "stream",
     "text": [
      "profile_id\n",
      "lat time lon\n"
     ]
    }
   ],
   "source": [
    "#point_data_container['wod_unique_cast'][i_profile] = WOD_profile_object.metadata('wod_unique_cast')\n",
    "variable_attributes = WOD_profile_object.show_variable_attr('wod_unique_cast')\n",
    "for i_attribute in variable_attributes:\n",
    "    print(WOD_profile_object.get_variable_attr('wod_unique_cast',i_attribute))"
   ]
  },
  {
   "cell_type": "code",
   "execution_count": 16,
   "id": "659b8c62",
   "metadata": {},
   "outputs": [
    {
     "name": "stderr",
     "output_type": "stream",
     "text": [
      "WARNING:root:crs neither profile metadata nor level data.\n",
      "WARNING:root:crs not a valid metadata name. See Profile.r.variables().keys() for all variables, and Profile.is_metadata() to check if a key is per-profile metadata.\n"
     ]
    }
   ],
   "source": [
    "WOD_profile_object.metadata('crs')"
   ]
  },
  {
   "cell_type": "code",
   "execution_count": 12,
   "id": "b3b5548b",
   "metadata": {},
   "outputs": [
    {
     "data": {
      "text/plain": [
       "'proleptic_gregorian'"
      ]
     },
     "execution_count": 12,
     "metadata": {},
     "output_type": "execute_result"
    }
   ],
   "source": [
    "WOD_profile_object.get_variable_attr('time',i_attribute)"
   ]
  },
  {
   "cell_type": "code",
   "execution_count": null,
   "id": "08e46dcc",
   "metadata": {},
   "outputs": [],
   "source": []
  }
 ],
 "metadata": {
  "kernelspec": {
   "display_name": "Python 3 (ipykernel)",
   "language": "python",
   "name": "python3"
  },
  "language_info": {
   "codemirror_mode": {
    "name": "ipython",
    "version": 3
   },
   "file_extension": ".py",
   "mimetype": "text/x-python",
   "name": "python",
   "nbconvert_exporter": "python",
   "pygments_lexer": "ipython3",
   "version": "3.7.7"
  }
 },
 "nbformat": 4,
 "nbformat_minor": 5
}
